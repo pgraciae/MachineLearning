{
 "cells": [
  {
   "cell_type": "markdown",
   "metadata": {},
   "source": [
    "# Pràctica 6: Naive Bayes\n"
   ]
  },
  {
   "cell_type": "markdown",
   "metadata": {},
   "source": [
    "## Avaluació i entregues\n",
    "\n",
    "### Entregues\n",
    "Les pràctiques es realitzarán els divendres de 15:00 a 17:00. Cada setmana presentarem nous mètodes i algorismes vistos a la classe de teoria.\n",
    "\n",
    "L'entrega, es realitzarà el següent **dijous abans de les 23:59**, és a dir, quasibé tota una setmana per a realitzar les tasques. Es pujará un .ipynb ja executat, **sense ZIP**, on no només hi hagi codi sinó també text explicatiu de gràfiques, resultats, i analisis. Tingueu en compte que no es valora tant la quantitat, sino la qualitat del que s'hi explica. Hem d'aprendre a extreure el gra de la palla i presentar-ho de forma correcta i concisa.\n",
    "\n",
    "\n",
    "### Avaluació\n",
    "Aquesta pràctica tractará els següents temes:\n",
    "\n",
    "* A. Ús Naive Bayes Sci-kit Learn (60%)\n",
    "* B. Implementació Naive Bayes (40%)\n",
    "\n",
    "Per descomptat, tots els experiments seguiran aplicant els coneixements apresos a les pràctiques anteriors, és a dir, aplicant una metodologia correcta de crosvalidació per tal de poder extreure conclusions vàlides.\n",
    "\n",
    "<a href=\"https://www.flickr.com/photos/mattbuck007/3676624894\"><img src=\"https://3qeqpr26caki16dnhd19sv6by6v-wpengine.netdna-ssl.com/wp-content/uploads/2014/12/naive-bayes-classifier.jpg\" width=500></a>\n"
   ]
  },
  {
   "cell_type": "markdown",
   "metadata": {},
   "source": [
    "## Introducció\n",
    "\n",
    "Els models Naive Bayes són un grup d’algoritmes de classificació extremadament ràpids i senzills que sovint són adequats per a conjunts de dades de molt alta dimensió.\n",
    "\n",
    "Com que són tan ràpids i tenen tan pocs paràmetres, acaben sent molt útils com a ràpid baseline per a un problemes de classificació senzills.\n",
    "\n",
    "Aquesta secció se centrarà en una explicació intuïtiva de com funcionen els classificadors ingenus de Bayes.\n"
   ]
  },
  {
   "cell_type": "markdown",
   "metadata": {},
   "source": [
    "### Classificació bayesiana\n",
    "\n",
    "Els classificadors de Bayes ingenus es basen en el teorema de Bayes, que és una equació que descriu la relació de probabilitats condicionals de quantitats estadístiques.\n",
    "\n",
    "A la classificació bayesiana, ens interessa trobar la probabilitat d'una etiqueta donades algunes característiques observades, que podem escriure com $ P (y ~|~ X) $.\n",
    "\n",
    "El teorema de Bayes ens explica com expressar-ho en termes de quantitats que podem calcular més directament:\n",
    "\n",
    "$$\n",
    "P(y \\mid x_1, \\dots, x_n) = \\frac{P(y) P(x_1, \\dots, x_n \\mid y)}\n",
    "                                 {P(x_1, \\dots, x_n)}\n",
    "$$\n",
    "\n",
    "Utilitzant l'assumpció ingenua d'independencia condicional, podem simplificar la relació per tot $i$.\n",
    "\n",
    "$$\n",
    "P(y \\mid x_1, \\dots, x_n) = \\frac{P(y) \\prod_{i=1}^{n} P(x_i \\mid y)}\n",
    "                                 {P(x_1, \\dots, x_n)}\n",
    "$$\n",
    "\n",
    "Ja que $P(x_1, \\dots, x_n)$ és constant donada una entrada, es pot utilitzar la següent simplificació, que será donarà un resultat proporcional al real, per tant, tindrem la mateixa sortida.\n",
    "\n",
    "$$ P(y \\mid x_1, \\dots, x_n) \\propto P(y) \\prod_{i=1}^{n} P(x_i \\mid y) $$\n",
    "\n",
    "La classificació final s'obtindrà:\n",
    "\n",
    "$$ \\hat{y} = \\arg\\max_y P(y) \\prod_{i=1}^{n} P(x_i \\mid y) $$\n"
   ]
  },
  {
   "cell_type": "markdown",
   "metadata": {},
   "source": [
    "Tingueu en compte que $P (y)$ també s’anomena **probabilitat de classe** i $P (x_i | y)$ s’anomena **probabilitat condicional**. \n",
    "\n",
    "Els diferents classificadors ingenus de Bayes es diferencien principalment pels supòsits que fan sobre la distribució de $P (x_i | y)$. \n",
    "\n",
    "Intentem aplicar la fórmula anterior manualment al nostre conjunt de dades meteorològiques. \n",
    "    "
   ]
  },
  {
   "cell_type": "markdown",
   "metadata": {},
   "source": [
    "### Exemple:\n",
    "\n",
    "Anem a veure un exemple [(extret d'aquesta web)](https://www.geeksforgeeks.org/naive-bayes-classifiers/). Considereu aquestes dades meteorològiques:"
   ]
  },
  {
   "cell_type": "code",
   "execution_count": 1,
   "metadata": {},
   "outputs": [
    {
     "data": {
      "text/html": [
       "<div>\n",
       "<style scoped>\n",
       "    .dataframe tbody tr th:only-of-type {\n",
       "        vertical-align: middle;\n",
       "    }\n",
       "\n",
       "    .dataframe tbody tr th {\n",
       "        vertical-align: top;\n",
       "    }\n",
       "\n",
       "    .dataframe thead th {\n",
       "        text-align: right;\n",
       "    }\n",
       "</style>\n",
       "<table border=\"1\" class=\"dataframe\">\n",
       "  <thead>\n",
       "    <tr style=\"text-align: right;\">\n",
       "      <th></th>\n",
       "      <th>Outlook</th>\n",
       "      <th>Temperature</th>\n",
       "      <th>Humidity</th>\n",
       "      <th>Windy</th>\n",
       "      <th>PlayGolf</th>\n",
       "    </tr>\n",
       "  </thead>\n",
       "  <tbody>\n",
       "    <tr>\n",
       "      <th>0</th>\n",
       "      <td>Rainy</td>\n",
       "      <td>Hot</td>\n",
       "      <td>High</td>\n",
       "      <td>False</td>\n",
       "      <td>No</td>\n",
       "    </tr>\n",
       "    <tr>\n",
       "      <th>1</th>\n",
       "      <td>Rainy</td>\n",
       "      <td>Hot</td>\n",
       "      <td>High</td>\n",
       "      <td>True</td>\n",
       "      <td>No</td>\n",
       "    </tr>\n",
       "    <tr>\n",
       "      <th>2</th>\n",
       "      <td>Overcast</td>\n",
       "      <td>Hot</td>\n",
       "      <td>High</td>\n",
       "      <td>False</td>\n",
       "      <td>Yes</td>\n",
       "    </tr>\n",
       "    <tr>\n",
       "      <th>3</th>\n",
       "      <td>Sunny</td>\n",
       "      <td>Mild</td>\n",
       "      <td>High</td>\n",
       "      <td>False</td>\n",
       "      <td>Yes</td>\n",
       "    </tr>\n",
       "    <tr>\n",
       "      <th>4</th>\n",
       "      <td>Sunny</td>\n",
       "      <td>Cool</td>\n",
       "      <td>Normal</td>\n",
       "      <td>False</td>\n",
       "      <td>Yes</td>\n",
       "    </tr>\n",
       "    <tr>\n",
       "      <th>5</th>\n",
       "      <td>Sunny</td>\n",
       "      <td>Cool</td>\n",
       "      <td>Normal</td>\n",
       "      <td>True</td>\n",
       "      <td>No</td>\n",
       "    </tr>\n",
       "    <tr>\n",
       "      <th>6</th>\n",
       "      <td>Overcast</td>\n",
       "      <td>Cool</td>\n",
       "      <td>Normal</td>\n",
       "      <td>True</td>\n",
       "      <td>Yes</td>\n",
       "    </tr>\n",
       "    <tr>\n",
       "      <th>7</th>\n",
       "      <td>Rainy</td>\n",
       "      <td>Mild</td>\n",
       "      <td>High</td>\n",
       "      <td>False</td>\n",
       "      <td>No</td>\n",
       "    </tr>\n",
       "    <tr>\n",
       "      <th>8</th>\n",
       "      <td>Rainy</td>\n",
       "      <td>Cool</td>\n",
       "      <td>Normal</td>\n",
       "      <td>False</td>\n",
       "      <td>Yes</td>\n",
       "    </tr>\n",
       "    <tr>\n",
       "      <th>9</th>\n",
       "      <td>Sunny</td>\n",
       "      <td>Mild</td>\n",
       "      <td>Normal</td>\n",
       "      <td>False</td>\n",
       "      <td>Yes</td>\n",
       "    </tr>\n",
       "    <tr>\n",
       "      <th>10</th>\n",
       "      <td>Rainy</td>\n",
       "      <td>Mild</td>\n",
       "      <td>Normal</td>\n",
       "      <td>True</td>\n",
       "      <td>Yes</td>\n",
       "    </tr>\n",
       "    <tr>\n",
       "      <th>11</th>\n",
       "      <td>Overcast</td>\n",
       "      <td>Mild</td>\n",
       "      <td>High</td>\n",
       "      <td>True</td>\n",
       "      <td>Yes</td>\n",
       "    </tr>\n",
       "    <tr>\n",
       "      <th>12</th>\n",
       "      <td>Overcast</td>\n",
       "      <td>Hot</td>\n",
       "      <td>Normal</td>\n",
       "      <td>False</td>\n",
       "      <td>Yes</td>\n",
       "    </tr>\n",
       "    <tr>\n",
       "      <th>13</th>\n",
       "      <td>Sunny</td>\n",
       "      <td>Mild</td>\n",
       "      <td>High</td>\n",
       "      <td>True</td>\n",
       "      <td>No</td>\n",
       "    </tr>\n",
       "  </tbody>\n",
       "</table>\n",
       "</div>"
      ],
      "text/plain": [
       "     Outlook Temperature Humidity  Windy PlayGolf\n",
       "0      Rainy         Hot     High  False       No\n",
       "1      Rainy         Hot     High   True       No\n",
       "2   Overcast         Hot     High  False      Yes\n",
       "3      Sunny        Mild     High  False      Yes\n",
       "4      Sunny        Cool   Normal  False      Yes\n",
       "5      Sunny        Cool   Normal   True       No\n",
       "6   Overcast        Cool   Normal   True      Yes\n",
       "7      Rainy        Mild     High  False       No\n",
       "8      Rainy        Cool   Normal  False      Yes\n",
       "9      Sunny        Mild   Normal  False      Yes\n",
       "10     Rainy        Mild   Normal   True      Yes\n",
       "11  Overcast        Mild     High   True      Yes\n",
       "12  Overcast         Hot   Normal  False      Yes\n",
       "13     Sunny        Mild     High   True       No"
      ]
     },
     "metadata": {},
     "output_type": "display_data"
    }
   ],
   "source": [
    "import pandas as pd\n",
    "\n",
    "dataGolf = pd.read_csv('playgolf.csv', delimiter=';')\n",
    "display(dataGolf)"
   ]
  },
  {
   "cell_type": "markdown",
   "metadata": {},
   "source": [
    "Haurem de fer algunes precomputacions al nostre conjunt de dades. Hem de trobar $P (x_i | y_j)$ per a cada $x_i$ a $X$ i $y_j$ a $y$. Tots aquests càlculs es mostren a les taules següents:\n",
    "\n",
    "\n",
    "<img src=\"https://media.geeksforgeeks.org/wp-content/uploads/naive-bayes-classification.png\" width=500>\n",
    "\n"
   ]
  },
  {
   "cell_type": "markdown",
   "metadata": {},
   "source": [
    "Cada taula ha calculat $P(x_i | y_j)$ per cada $x_i$ en $X$ i $y_j$ en $y$. Per exemple, la probabilitat de jugar a golf donat que la temperatura és fresca, és a dir, $P(temperature = Cool | PlayGolf = Yes) = 3/9$.\n",
    "\n",
    "A més, hem de trobar les probabilitats de classe ($P (y)$). Per exemple, $P (PlayGolf = Yes) = 9/14$.\n",
    "\n",
    "Ja podem fer servir el classificador ingenu de Bayes. Per exemple, si avui tenim aquestes condicions climatològiques, jugarem al golf?"
   ]
  },
  {
   "cell_type": "code",
   "execution_count": 2,
   "metadata": {},
   "outputs": [],
   "source": [
    "today_golf = ['Sunny', 'Hot', 'Normal', False]"
   ]
  },
  {
   "cell_type": "markdown",
   "metadata": {},
   "source": [
    "$P(Yes|today) = \\frac{P(Outlook=Sunny|Yes) P(Temperature=Hot|Yes) P(Humidity=Normal|Yes) P(Wind=False|Yes) P(Yes)}{P(today)}$\n",
    "\n",
    "$P(No|today) = \\frac{P(Outlook=Sunny|No) P(Temperature=Hot|No) P(Humidity=Normal|No) P(Wind=False|No) P(No)}{P(today)}$\n",
    "\n",
    "Ignorem el $P(today)$ per què es comú a les dues probabilitats, i calculem:\n",
    "\n",
    "$$P(Yes|today) \\propto \\frac{2}{9}·\\frac{2}{9}·\\frac{6}{9}·\\frac{6}{9}·\\frac{9}{14} \\simeq 0.0141 $$\n",
    "\n",
    "$$P(No|today) \\propto \\frac{3}{5}·\\frac{2}{5}·\\frac{1}{5}·\\frac{2}{5}·\\frac{5}{14} \\simeq 0.0068 $$\n",
    "\n",
    "Podem normalitzar-ho per sumar 1, \n",
    "$$P(Yes|today) = \\frac{0.0141}{0.0068+0.0141}=0.67$$\n",
    "$$P(No|today) = \\frac{0.0068}{0.0068+0.0141}=0.33$$"
   ]
  },
  {
   "cell_type": "code",
   "execution_count": 3,
   "metadata": {},
   "outputs": [],
   "source": [
    "today_df_golf = pd.DataFrame([today_golf], columns = ['Outlook','Temperature', 'Humidity','Windy'])"
   ]
  },
  {
   "cell_type": "code",
   "execution_count": 4,
   "metadata": {},
   "outputs": [
    {
     "data": {
      "text/plain": [
       "array([[0.22086561, 0.77913439]])"
      ]
     },
     "execution_count": 4,
     "metadata": {},
     "output_type": "execute_result"
    }
   ],
   "source": [
    "from sklearn.preprocessing import OrdinalEncoder\n",
    "from sklearn.naive_bayes import CategoricalNB\n",
    "\n",
    "X_golf = dataGolf.drop(\"PlayGolf\", axis=\"columns\")\n",
    "y_golf = dataGolf[\"PlayGolf\"]\n",
    "\n",
    "enc = OrdinalEncoder()\n",
    "enc.fit(X_golf)\n",
    "X_golf_encoded = enc.transform(X_golf)\n",
    "\n",
    "model_cat = CategoricalNB(alpha=1)\n",
    "model_cat.fit(X_golf_encoded, y_golf)\n",
    "\n",
    "model_cat.predict_proba(enc.transform(today_df_golf))"
   ]
  },
  {
   "cell_type": "markdown",
   "metadata": {},
   "source": [
    "### Tipus de Classificadors Naive Bayes\n",
    "Tot el que necessitem ara és algun model per calcular **$ P(x_i \\mid y) $** per a cada etiqueta, i n'existeixen varis depenent del tipus de dades. \n",
    "\n",
    "Podeu trobar l'explicació més precisa a la documentació, pero a continuació n'explicarem els trets fonamentals (Sabrieu dir quin model hem fet servir en l'exemple anterior?):\n",
    "\n",
    "Tingueu en compte que $\\alpha$ es un prior de suavització, i tenen en compte característiques no vistes durant l'aprenentatge. Impedeixen probabilitats nul·les en altres càlculs. Si $\\alpha = 1$, s’anomena suavització de Laplace, mentre que $\\alpha < 1$ s’anomena suavització de Lidstone.\n"
   ]
  },
  {
   "cell_type": "markdown",
   "metadata": {},
   "source": [
    "#### [Gaussian Naive Bayes](https://scikit-learn.org/stable/modules/naive_bayes.html#gaussian-naive-bayes)\n",
    "Si tenim dades continues, i creiem que asumeixen una distribució normal, les podem modelitzar amb la mitja i la desviació estandar.\n",
    "$$P(x_i \\mid y) = \\frac{1}{\\sqrt{2\\pi\\sigma^2_y}} \\exp\\left(-\\frac{(x_i - \\mu_y)^2}{2\\sigma^2_y}\\right)$$\n",
    "\n",
    "#### [Multinomial Naive Bayes](https://scikit-learn.org/stable/modules/naive_bayes.html#multinomial-naive-bayes)\n",
    "Es fa servir si tenim caracteristiques que compten occurencies. Per exemple, en text, si comptem quantes vegades apareix un terme en el document (una paraula). \n",
    "\n",
    "$$P(x_i \\mid y)\\sim \\hat{\\theta}_{yi} · x_i = \\frac{ N_{yi} + \\alpha}{N_y + \\alpha n} · x_i$$\n",
    "\n",
    "#### [Bernoulli Naive Bayes](https://scikit-learn.org/stable/modules/naive_bayes.html#bernoulli-naive-bayes)\n",
    "Si les dades són binaries, millor utilitzar aquesta problabilitat.\n",
    "\n",
    "$$P(x_i \\mid y) = P(i \\mid y) · x_i + (1 - P(i \\mid y)) · (1 - x_i)$$\n",
    "\n",
    "#### [Categorical Naive Bayes](https://scikit-learn.org/stable/modules/naive_bayes.html#categorical-naive-bayes)\n",
    "Si les dades són categoriques.\n",
    "$$P(x_i = t \\mid y = c ; \\alpha) = \\frac{ N_{tic} + \\alpha}{N_{c} + \\alpha n_i}$$\n",
    "\n"
   ]
  },
  {
   "cell_type": "markdown",
   "metadata": {},
   "source": [
    "### Datasets\n",
    "\n",
    "Es faràn servir varies bases de dades per comparar els mètodes més idonis depenent del tipus de dades:\n",
    "\n",
    "* [**playgolf**](https://medium.com/@hrishavkmr/naive-bayes-in-machine-learning-5c0972340b76) (db: `playgolf.csv`)\n",
    "* [**iris**](https://scikit-learn.org/stable/modules/generated/sklearn.datasets.load_iris.html) (db: `datasets.load_iris`)\n",
    "* [**zoo**](https://www.kaggle.com/uciml/zoo-animal-classification) (db: `zoo_animal.csv`)\n",
    "* [**heart-disease-uci**](https://www.kaggle.com/ronitf/heart-disease-uci) (db: `heart.csv`)\n",
    "* [**20newsgroups**](https://scikit-learn.org/stable/modules/generated/sklearn.datasets.fetch_20newsgroups.html) (db: `datasets.fetch_20newsgroups`) (Al appendix veure-ho com tranformar text en caracteristiques)\n"
   ]
  },
  {
   "cell_type": "markdown",
   "metadata": {},
   "source": [
    "## A. Ús Naive Bayes Sci-kit Learn (60%)\n",
    "\n",
    "En aquest apartat us recomano que feu ús de funcions propies per a llegir una base de dades, aplicar-hi un model, fer crosvalidacio i que retorni els resultats. D'aquesta forma podreu reaprofitar molt de codi.\n",
    "\n",
    "\n",
    "\n"
   ]
  },
  {
   "cell_type": "code",
   "execution_count": 5,
   "metadata": {},
   "outputs": [
    {
     "data": {
      "text/html": [
       "<div>\n",
       "<style scoped>\n",
       "    .dataframe tbody tr th:only-of-type {\n",
       "        vertical-align: middle;\n",
       "    }\n",
       "\n",
       "    .dataframe tbody tr th {\n",
       "        vertical-align: top;\n",
       "    }\n",
       "\n",
       "    .dataframe thead th {\n",
       "        text-align: right;\n",
       "    }\n",
       "</style>\n",
       "<table border=\"1\" class=\"dataframe\">\n",
       "  <thead>\n",
       "    <tr style=\"text-align: right;\">\n",
       "      <th></th>\n",
       "      <th>age</th>\n",
       "      <th>sex</th>\n",
       "      <th>cp</th>\n",
       "      <th>trestbps</th>\n",
       "      <th>chol</th>\n",
       "      <th>fbs</th>\n",
       "      <th>restecg</th>\n",
       "      <th>thalach</th>\n",
       "      <th>exang</th>\n",
       "      <th>oldpeak</th>\n",
       "      <th>slope</th>\n",
       "      <th>ca</th>\n",
       "      <th>thal</th>\n",
       "    </tr>\n",
       "  </thead>\n",
       "  <tbody>\n",
       "    <tr>\n",
       "      <th>0</th>\n",
       "      <td>63</td>\n",
       "      <td>1</td>\n",
       "      <td>3</td>\n",
       "      <td>145</td>\n",
       "      <td>233</td>\n",
       "      <td>1</td>\n",
       "      <td>0</td>\n",
       "      <td>150</td>\n",
       "      <td>0</td>\n",
       "      <td>2.3</td>\n",
       "      <td>0</td>\n",
       "      <td>0</td>\n",
       "      <td>1</td>\n",
       "    </tr>\n",
       "    <tr>\n",
       "      <th>1</th>\n",
       "      <td>37</td>\n",
       "      <td>1</td>\n",
       "      <td>2</td>\n",
       "      <td>130</td>\n",
       "      <td>250</td>\n",
       "      <td>0</td>\n",
       "      <td>1</td>\n",
       "      <td>187</td>\n",
       "      <td>0</td>\n",
       "      <td>3.5</td>\n",
       "      <td>0</td>\n",
       "      <td>0</td>\n",
       "      <td>2</td>\n",
       "    </tr>\n",
       "    <tr>\n",
       "      <th>2</th>\n",
       "      <td>41</td>\n",
       "      <td>0</td>\n",
       "      <td>1</td>\n",
       "      <td>130</td>\n",
       "      <td>204</td>\n",
       "      <td>0</td>\n",
       "      <td>0</td>\n",
       "      <td>172</td>\n",
       "      <td>0</td>\n",
       "      <td>1.4</td>\n",
       "      <td>2</td>\n",
       "      <td>0</td>\n",
       "      <td>2</td>\n",
       "    </tr>\n",
       "    <tr>\n",
       "      <th>3</th>\n",
       "      <td>56</td>\n",
       "      <td>1</td>\n",
       "      <td>1</td>\n",
       "      <td>120</td>\n",
       "      <td>236</td>\n",
       "      <td>0</td>\n",
       "      <td>1</td>\n",
       "      <td>178</td>\n",
       "      <td>0</td>\n",
       "      <td>0.8</td>\n",
       "      <td>2</td>\n",
       "      <td>0</td>\n",
       "      <td>2</td>\n",
       "    </tr>\n",
       "    <tr>\n",
       "      <th>4</th>\n",
       "      <td>57</td>\n",
       "      <td>0</td>\n",
       "      <td>0</td>\n",
       "      <td>120</td>\n",
       "      <td>354</td>\n",
       "      <td>0</td>\n",
       "      <td>1</td>\n",
       "      <td>163</td>\n",
       "      <td>1</td>\n",
       "      <td>0.6</td>\n",
       "      <td>2</td>\n",
       "      <td>0</td>\n",
       "      <td>2</td>\n",
       "    </tr>\n",
       "    <tr>\n",
       "      <th>...</th>\n",
       "      <td>...</td>\n",
       "      <td>...</td>\n",
       "      <td>...</td>\n",
       "      <td>...</td>\n",
       "      <td>...</td>\n",
       "      <td>...</td>\n",
       "      <td>...</td>\n",
       "      <td>...</td>\n",
       "      <td>...</td>\n",
       "      <td>...</td>\n",
       "      <td>...</td>\n",
       "      <td>...</td>\n",
       "      <td>...</td>\n",
       "    </tr>\n",
       "    <tr>\n",
       "      <th>298</th>\n",
       "      <td>57</td>\n",
       "      <td>0</td>\n",
       "      <td>0</td>\n",
       "      <td>140</td>\n",
       "      <td>241</td>\n",
       "      <td>0</td>\n",
       "      <td>1</td>\n",
       "      <td>123</td>\n",
       "      <td>1</td>\n",
       "      <td>0.2</td>\n",
       "      <td>1</td>\n",
       "      <td>0</td>\n",
       "      <td>3</td>\n",
       "    </tr>\n",
       "    <tr>\n",
       "      <th>299</th>\n",
       "      <td>45</td>\n",
       "      <td>1</td>\n",
       "      <td>3</td>\n",
       "      <td>110</td>\n",
       "      <td>264</td>\n",
       "      <td>0</td>\n",
       "      <td>1</td>\n",
       "      <td>132</td>\n",
       "      <td>0</td>\n",
       "      <td>1.2</td>\n",
       "      <td>1</td>\n",
       "      <td>0</td>\n",
       "      <td>3</td>\n",
       "    </tr>\n",
       "    <tr>\n",
       "      <th>300</th>\n",
       "      <td>68</td>\n",
       "      <td>1</td>\n",
       "      <td>0</td>\n",
       "      <td>144</td>\n",
       "      <td>193</td>\n",
       "      <td>1</td>\n",
       "      <td>1</td>\n",
       "      <td>141</td>\n",
       "      <td>0</td>\n",
       "      <td>3.4</td>\n",
       "      <td>1</td>\n",
       "      <td>2</td>\n",
       "      <td>3</td>\n",
       "    </tr>\n",
       "    <tr>\n",
       "      <th>301</th>\n",
       "      <td>57</td>\n",
       "      <td>1</td>\n",
       "      <td>0</td>\n",
       "      <td>130</td>\n",
       "      <td>131</td>\n",
       "      <td>0</td>\n",
       "      <td>1</td>\n",
       "      <td>115</td>\n",
       "      <td>1</td>\n",
       "      <td>1.2</td>\n",
       "      <td>1</td>\n",
       "      <td>1</td>\n",
       "      <td>3</td>\n",
       "    </tr>\n",
       "    <tr>\n",
       "      <th>302</th>\n",
       "      <td>57</td>\n",
       "      <td>0</td>\n",
       "      <td>1</td>\n",
       "      <td>130</td>\n",
       "      <td>236</td>\n",
       "      <td>0</td>\n",
       "      <td>0</td>\n",
       "      <td>174</td>\n",
       "      <td>0</td>\n",
       "      <td>0.0</td>\n",
       "      <td>1</td>\n",
       "      <td>1</td>\n",
       "      <td>2</td>\n",
       "    </tr>\n",
       "  </tbody>\n",
       "</table>\n",
       "<p>303 rows × 13 columns</p>\n",
       "</div>"
      ],
      "text/plain": [
       "     age  sex  cp  trestbps  chol  fbs  restecg  thalach  exang  oldpeak  \\\n",
       "0     63    1   3       145   233    1        0      150      0      2.3   \n",
       "1     37    1   2       130   250    0        1      187      0      3.5   \n",
       "2     41    0   1       130   204    0        0      172      0      1.4   \n",
       "3     56    1   1       120   236    0        1      178      0      0.8   \n",
       "4     57    0   0       120   354    0        1      163      1      0.6   \n",
       "..   ...  ...  ..       ...   ...  ...      ...      ...    ...      ...   \n",
       "298   57    0   0       140   241    0        1      123      1      0.2   \n",
       "299   45    1   3       110   264    0        1      132      0      1.2   \n",
       "300   68    1   0       144   193    1        1      141      0      3.4   \n",
       "301   57    1   0       130   131    0        1      115      1      1.2   \n",
       "302   57    0   1       130   236    0        0      174      0      0.0   \n",
       "\n",
       "     slope  ca  thal  \n",
       "0        0   0     1  \n",
       "1        0   0     2  \n",
       "2        2   0     2  \n",
       "3        2   0     2  \n",
       "4        2   0     2  \n",
       "..     ...  ..   ...  \n",
       "298      1   0     3  \n",
       "299      1   0     3  \n",
       "300      1   2     3  \n",
       "301      1   1     3  \n",
       "302      1   1     2  \n",
       "\n",
       "[303 rows x 13 columns]"
      ]
     },
     "metadata": {},
     "output_type": "display_data"
    },
    {
     "data": {
      "text/plain": [
       "0      1\n",
       "1      1\n",
       "2      1\n",
       "3      1\n",
       "4      1\n",
       "      ..\n",
       "298    0\n",
       "299    0\n",
       "300    0\n",
       "301    0\n",
       "302    0\n",
       "Name: target, Length: 303, dtype: int64"
      ]
     },
     "metadata": {},
     "output_type": "display_data"
    }
   ],
   "source": [
    "dataHeart = pd.read_csv('heart.csv')\n",
    "X = dataHeart.drop('target', axis = 'columns')\n",
    "y = dataHeart['target']\n",
    "display(X)\n",
    "display(y)"
   ]
  },
  {
   "cell_type": "code",
   "execution_count": 56,
   "metadata": {},
   "outputs": [],
   "source": [
    "import pandas as pd\n",
    "import numpy as np\n",
    "import sklearn.datasets \n",
    "from sklearn.model_selection import cross_val_score\n",
    "from sklearn.preprocessing import OrdinalEncoder\n",
    "from sklearn.feature_extraction.text import TfidfVectorizer\n",
    "import matplotlib.pyplot as plt\n",
    "from sklearn.pipeline import make_pipeline\n",
    "\n",
    "\n",
    "def load_dataset(which):\n",
    "    X, y = None, None\n",
    "    # si s'han de netejar o codificar les dades, feu-ho aqui directament\n",
    "    if which == \"iris\":\n",
    "        ir = sklearn.datasets.load_iris()\n",
    "        dataIris = pd.DataFrame(ir.data)\n",
    "        dataIris['target'] = pd.DataFrame(ir.target)\n",
    "        dataIris.columns =['sepal_len', 'sepal_wid', 'petal_len', 'petal_wid', 'class']\n",
    "        #potser dropna\n",
    "        X = dataIris.drop('class', axis = 'columns').to_numpy()\n",
    "        y = dataIris['class']\n",
    "        \n",
    "    elif which == \"playgolf\":\n",
    "        dataGolf = pd.read_csv('playgolf.csv', delimiter=';')\n",
    "        X_golf = dataGolf.drop(\"PlayGolf\", axis=\"columns\")\n",
    "        y = dataGolf[\"PlayGolf\"]\n",
    "        enc = OrdinalEncoder()\n",
    "        enc.fit(X_golf)\n",
    "        X = enc.transform(X_golf)\n",
    "\n",
    "\n",
    "    elif which == \"zoo\":\n",
    "        dataZoo = pd.read_csv('zoo_animal.csv')\n",
    "        X= dataZoo.drop(['animal_name','class_type'], axis = 'columns') #Dropejo també animal_name ja que considero que pot afectar negativament la condicionalitat i m'evita fer servir encoder\n",
    "        y = dataZoo['class_type']\n",
    "     \n",
    "        \n",
    "    elif which == \"heart-disease-uci\":\n",
    "        dataHeart = pd.read_csv('heart.csv')\n",
    "        X = dataHeart.drop('target', axis = 'columns')\n",
    "        y = dataHeart['target']\n",
    "        \n",
    "    elif which == \"20newsgroups\":\n",
    "        dataNews = sklearn.datasets.fetch_20newsgroups()\n",
    "        categories = ['talk.religion.misc', 'soc.religion.christian',\n",
    "             'sci.space', 'comp.graphics']\n",
    "        train = fetch_20newsgroups(subset='train', categories=categories)\n",
    "        test = fetch_20newsgroups(subset='test', categories=categories)\n",
    "        X = train.data\n",
    "        y = train.target\n",
    "        \n",
    "    else:\n",
    "        raise (\"UNKNOWN DATASET\")\n",
    "    \n",
    "    return X, y\n",
    "\n",
    "def experiment(dataset_name, model, debug=True):\n",
    "    X, y = load_dataset(dataset_name)\n",
    "\n",
    "    if X is None or y is None:\n",
    "        return -1\n",
    "\n",
    "    if debug:\n",
    "        model.fit(X, y)\n",
    "        return model.score(X, y)\n",
    "    else:            \n",
    "        try:\n",
    "            model.fit(X, y)\n",
    "            return model.score(X, y)\n",
    "        except Exception as e:\n",
    "            print('\\033[91m'+\"ERROR {}\".format(e)+'\\x1b[0m')\n",
    "            return -100    \n",
    "    \n"
   ]
  },
  {
   "cell_type": "code",
   "execution_count": 57,
   "metadata": {},
   "outputs": [
    {
     "name": "stdout",
     "output_type": "stream",
     "text": [
      "iris + GaussianNB(priors=None, var_smoothing=1e-09) = 0.960\n",
      "iris + MultinomialNB(alpha=1.0, class_prior=None, fit_prior=True) = 0.953\n",
      "iris + BernoulliNB(alpha=1.0, binarize=0.0, class_prior=None, fit_prior=True) = 0.333\n",
      "iris + CategoricalNB(alpha=1.0, class_prior=None, fit_prior=True) = 0.933\n",
      "playgolf + GaussianNB(priors=None, var_smoothing=1e-09) = 0.857\n",
      "playgolf + MultinomialNB(alpha=1.0, class_prior=None, fit_prior=True) = 0.786\n",
      "playgolf + BernoulliNB(alpha=1.0, binarize=0.0, class_prior=None, fit_prior=True) = 0.857\n",
      "playgolf + CategoricalNB(alpha=1.0, class_prior=None, fit_prior=True) = 0.929\n",
      "zoo + GaussianNB(priors=None, var_smoothing=1e-09) = 1.000\n",
      "zoo + MultinomialNB(alpha=1.0, class_prior=None, fit_prior=True) = 0.921\n",
      "zoo + BernoulliNB(alpha=1.0, binarize=0.0, class_prior=None, fit_prior=True) = 0.990\n",
      "zoo + CategoricalNB(alpha=1.0, class_prior=None, fit_prior=True) = 1.000\n",
      "heart-disease-uci + GaussianNB(priors=None, var_smoothing=1e-09) = 0.842\n",
      "heart-disease-uci + MultinomialNB(alpha=1.0, class_prior=None, fit_prior=True) = 0.752\n",
      "heart-disease-uci + BernoulliNB(alpha=1.0, binarize=0.0, class_prior=None, fit_prior=True) = 0.832\n",
      "heart-disease-uci + CategoricalNB(alpha=1.0, class_prior=None, fit_prior=True) = 0.911\n",
      "20newsgroups + Pipeline de TfidVectorizer() i MultinomialNB() = 0.896\n",
      "DONE\n"
     ]
    }
   ],
   "source": [
    "from sklearn.naive_bayes import GaussianNB, MultinomialNB, BernoulliNB, CategoricalNB\n",
    "from sklearn.datasets import fetch_20newsgroups\n",
    "\n",
    "models = [GaussianNB(), MultinomialNB(), BernoulliNB(), CategoricalNB()]\n",
    "datasets = ['iris','playgolf','zoo', 'heart-disease-uci', '20newsgroups']\n",
    "\n",
    "resultat = {'Dataset': [], 'Model': [], 'Score': []}\n",
    "\n",
    "for d in datasets[:-1]:\n",
    "    for m in models:\n",
    "        result = experiment(d, m)\n",
    "        print('{} + {:20} = {:.3f}'.format(d, str(m), result))\n",
    "        resultat['Dataset'].append(d)\n",
    "        resultat['Model'].append(m)\n",
    "        resultat['Score'].append(result)\n",
    "\n",
    "m = make_pipeline(TfidfVectorizer(), MultinomialNB())\n",
    "r = experiment(datasets[-1], m)\n",
    "print('{} + {:20} = {:.3f}'.format(datasets[-1], 'Pipeline de TfidVectorizer() i MultinomialNB()', r))\n",
    "resultat['Dataset'].append(datasets[-1])\n",
    "resultat['Model'].append('Pipeline de TfidVectorizer() i MultinomialNB()')\n",
    "resultat['Score'].append(r)\n",
    "\n",
    "        \n",
    "print(\"DONE\")"
   ]
  },
  {
   "cell_type": "code",
   "execution_count": 58,
   "metadata": {},
   "outputs": [
    {
     "data": {
      "text/plain": [
       "0.8571428571428571"
      ]
     },
     "execution_count": 58,
     "metadata": {},
     "output_type": "execute_result"
    }
   ],
   "source": [
    "instancia_model = GaussianNB()\n",
    "result = experiment('playgolf', instancia_model)\n",
    "result"
   ]
  },
  {
   "cell_type": "markdown",
   "metadata": {},
   "source": [
    "#### Preguntes\n",
    "1. Carrega els diferents datasets i explica quin tipus de classificador de bayes creieu que serà més adient per les dades.\n",
    "\n",
    "2. Fés una taula mostrant el accuracy de cada model per cada un dels datasets. \n",
    "\n",
    "3. Mostra els resultats gràficament. Quin tipus de Bayes funciona millor per quin dataset. De mitjana, quin ho fa millor?\n",
    "\n",
    "4. Et sorprenen el resultats? Com és possible que certs models funcionin per dades que en principi no haurien de funcionar? Explica els atributs més importants de cada classificador. Mostra'n exemples i analitza'ls.\n",
    "\n",
    "5. Si el nostre dataset conté dades de diferent naturalesa, és a dir, uns atributs categorics, d'altres continus, d'altres binaris, creus que es podrien combinar els diferents classificadors de bayes? Seguint la formula original, com es faria?\n"
   ]
  },
  {
   "cell_type": "markdown",
   "metadata": {},
   "source": [
    "1\n",
    "\n",
    "Per al Iris, al ser un dataset de dades continues, podriem fer servir amb altes probabilitats d'èxit el GaussianNB.\n",
    "\n",
    "Per al playgolf, al ser dades categòriques que representen un estat meteorològic, crec que el millor model seria el CategoricalNB.\n",
    "\n",
    "Per al zoo, al ser un dataset amb dades la majoria entre 0 i 1, crec que podrien funcionar bé els models GaussianNB o el bernouliNB.\n",
    "\n",
    "Per al heart-disease-uci, al ser també dades categòriques però amb representació numèrica, el model CategoricNB o el model GaussianNB podrien funcionar bé. \n",
    "\n",
    "Per al 20newsgroups lògicament utilitzarem el multinomialNB ja que ens serveix per comptar ocurrències, el que fem per analitzar text."
   ]
  },
  {
   "cell_type": "code",
   "execution_count": 59,
   "metadata": {},
   "outputs": [],
   "source": [
    "X_Iris, y_Iris = load_dataset('iris')\n",
    "X_golf, y_golf = load_dataset('playgolf')\n",
    "X_zoo, y_zoo = load_dataset('zoo')\n",
    "X_heart, y_heart = load_dataset('heart-disease-uci')\n",
    "X_news, y_news = load_dataset('20newsgroups')"
   ]
  },
  {
   "cell_type": "markdown",
   "metadata": {},
   "source": [
    "2.\n",
    "\n",
    "El procediment està fet a dues cel·les superors, on creo un diccionari amb els resultats de creuar cada dataset amb cada model."
   ]
  },
  {
   "cell_type": "code",
   "execution_count": 9,
   "metadata": {},
   "outputs": [
    {
     "data": {
      "text/html": [
       "<div>\n",
       "<style scoped>\n",
       "    .dataframe tbody tr th:only-of-type {\n",
       "        vertical-align: middle;\n",
       "    }\n",
       "\n",
       "    .dataframe tbody tr th {\n",
       "        vertical-align: top;\n",
       "    }\n",
       "\n",
       "    .dataframe thead th {\n",
       "        text-align: right;\n",
       "    }\n",
       "</style>\n",
       "<table border=\"1\" class=\"dataframe\">\n",
       "  <thead>\n",
       "    <tr style=\"text-align: right;\">\n",
       "      <th></th>\n",
       "      <th>Dataset</th>\n",
       "      <th>Model</th>\n",
       "      <th>Score</th>\n",
       "    </tr>\n",
       "  </thead>\n",
       "  <tbody>\n",
       "    <tr>\n",
       "      <th>0</th>\n",
       "      <td>iris</td>\n",
       "      <td>GaussianNB(priors=None, var_smoothing=1e-09)</td>\n",
       "      <td>0.960000</td>\n",
       "    </tr>\n",
       "    <tr>\n",
       "      <th>1</th>\n",
       "      <td>iris</td>\n",
       "      <td>MultinomialNB(alpha=1.0, class_prior=None, fit...</td>\n",
       "      <td>0.953333</td>\n",
       "    </tr>\n",
       "    <tr>\n",
       "      <th>2</th>\n",
       "      <td>iris</td>\n",
       "      <td>BernoulliNB(alpha=1.0, binarize=0.0, class_pri...</td>\n",
       "      <td>0.333333</td>\n",
       "    </tr>\n",
       "    <tr>\n",
       "      <th>3</th>\n",
       "      <td>iris</td>\n",
       "      <td>CategoricalNB(alpha=1.0, class_prior=None, fit...</td>\n",
       "      <td>0.933333</td>\n",
       "    </tr>\n",
       "    <tr>\n",
       "      <th>4</th>\n",
       "      <td>playgolf</td>\n",
       "      <td>GaussianNB(priors=None, var_smoothing=1e-09)</td>\n",
       "      <td>0.857143</td>\n",
       "    </tr>\n",
       "    <tr>\n",
       "      <th>5</th>\n",
       "      <td>playgolf</td>\n",
       "      <td>MultinomialNB(alpha=1.0, class_prior=None, fit...</td>\n",
       "      <td>0.785714</td>\n",
       "    </tr>\n",
       "    <tr>\n",
       "      <th>6</th>\n",
       "      <td>playgolf</td>\n",
       "      <td>BernoulliNB(alpha=1.0, binarize=0.0, class_pri...</td>\n",
       "      <td>0.857143</td>\n",
       "    </tr>\n",
       "    <tr>\n",
       "      <th>7</th>\n",
       "      <td>playgolf</td>\n",
       "      <td>CategoricalNB(alpha=1.0, class_prior=None, fit...</td>\n",
       "      <td>0.928571</td>\n",
       "    </tr>\n",
       "    <tr>\n",
       "      <th>8</th>\n",
       "      <td>zoo</td>\n",
       "      <td>GaussianNB(priors=None, var_smoothing=1e-09)</td>\n",
       "      <td>1.000000</td>\n",
       "    </tr>\n",
       "    <tr>\n",
       "      <th>9</th>\n",
       "      <td>zoo</td>\n",
       "      <td>MultinomialNB(alpha=1.0, class_prior=None, fit...</td>\n",
       "      <td>0.920792</td>\n",
       "    </tr>\n",
       "    <tr>\n",
       "      <th>10</th>\n",
       "      <td>zoo</td>\n",
       "      <td>BernoulliNB(alpha=1.0, binarize=0.0, class_pri...</td>\n",
       "      <td>0.990099</td>\n",
       "    </tr>\n",
       "    <tr>\n",
       "      <th>11</th>\n",
       "      <td>zoo</td>\n",
       "      <td>CategoricalNB(alpha=1.0, class_prior=None, fit...</td>\n",
       "      <td>1.000000</td>\n",
       "    </tr>\n",
       "    <tr>\n",
       "      <th>12</th>\n",
       "      <td>heart-disease-uci</td>\n",
       "      <td>GaussianNB(priors=None, var_smoothing=1e-09)</td>\n",
       "      <td>0.841584</td>\n",
       "    </tr>\n",
       "    <tr>\n",
       "      <th>13</th>\n",
       "      <td>heart-disease-uci</td>\n",
       "      <td>MultinomialNB(alpha=1.0, class_prior=None, fit...</td>\n",
       "      <td>0.752475</td>\n",
       "    </tr>\n",
       "    <tr>\n",
       "      <th>14</th>\n",
       "      <td>heart-disease-uci</td>\n",
       "      <td>BernoulliNB(alpha=1.0, binarize=0.0, class_pri...</td>\n",
       "      <td>0.831683</td>\n",
       "    </tr>\n",
       "    <tr>\n",
       "      <th>15</th>\n",
       "      <td>heart-disease-uci</td>\n",
       "      <td>CategoricalNB(alpha=1.0, class_prior=None, fit...</td>\n",
       "      <td>0.910891</td>\n",
       "    </tr>\n",
       "  </tbody>\n",
       "</table>\n",
       "</div>"
      ],
      "text/plain": [
       "              Dataset                                              Model  \\\n",
       "0                iris       GaussianNB(priors=None, var_smoothing=1e-09)   \n",
       "1                iris  MultinomialNB(alpha=1.0, class_prior=None, fit...   \n",
       "2                iris  BernoulliNB(alpha=1.0, binarize=0.0, class_pri...   \n",
       "3                iris  CategoricalNB(alpha=1.0, class_prior=None, fit...   \n",
       "4            playgolf       GaussianNB(priors=None, var_smoothing=1e-09)   \n",
       "5            playgolf  MultinomialNB(alpha=1.0, class_prior=None, fit...   \n",
       "6            playgolf  BernoulliNB(alpha=1.0, binarize=0.0, class_pri...   \n",
       "7            playgolf  CategoricalNB(alpha=1.0, class_prior=None, fit...   \n",
       "8                 zoo       GaussianNB(priors=None, var_smoothing=1e-09)   \n",
       "9                 zoo  MultinomialNB(alpha=1.0, class_prior=None, fit...   \n",
       "10                zoo  BernoulliNB(alpha=1.0, binarize=0.0, class_pri...   \n",
       "11                zoo  CategoricalNB(alpha=1.0, class_prior=None, fit...   \n",
       "12  heart-disease-uci       GaussianNB(priors=None, var_smoothing=1e-09)   \n",
       "13  heart-disease-uci  MultinomialNB(alpha=1.0, class_prior=None, fit...   \n",
       "14  heart-disease-uci  BernoulliNB(alpha=1.0, binarize=0.0, class_pri...   \n",
       "15  heart-disease-uci  CategoricalNB(alpha=1.0, class_prior=None, fit...   \n",
       "\n",
       "       Score  \n",
       "0   0.960000  \n",
       "1   0.953333  \n",
       "2   0.333333  \n",
       "3   0.933333  \n",
       "4   0.857143  \n",
       "5   0.785714  \n",
       "6   0.857143  \n",
       "7   0.928571  \n",
       "8   1.000000  \n",
       "9   0.920792  \n",
       "10  0.990099  \n",
       "11  1.000000  \n",
       "12  0.841584  \n",
       "13  0.752475  \n",
       "14  0.831683  \n",
       "15  0.910891  "
      ]
     },
     "metadata": {},
     "output_type": "display_data"
    }
   ],
   "source": [
    "df = pd.DataFrame(resultat)\n",
    "display(df)"
   ]
  },
  {
   "cell_type": "markdown",
   "metadata": {},
   "source": [
    "3"
   ]
  },
  {
   "cell_type": "code",
   "execution_count": 10,
   "metadata": {},
   "outputs": [
    {
     "data": {
      "image/png": "[encoded data removed]",
      "text/plain": [
       "<Figure size 936x936 with 1 Axes>"
      ]
     },
     "metadata": {
      "needs_background": "light"
     },
     "output_type": "display_data"
    }
   ],
   "source": [
    "import seaborn as sns\n",
    "f = plt.figure(figsize = (13,13))\n",
    "sns.barplot(data = df, x = 'Dataset', y = 'Score', hue = 'Model')\n",
    "plt.show()"
   ]
  },
  {
   "cell_type": "markdown",
   "metadata": {},
   "source": [
    "4."
   ]
  },
  {
   "cell_type": "markdown",
   "metadata": {},
   "source": [
    "Els resultats d'alguns models em sorprenen mentres que d'altres no em sorprenen ja que obtinc els resultats esperats. Crec que això es pot donar ja que en alguns Datasets, tenim atributs de diferent tipus categòrics, o discrets i continus:\n",
    "\n",
    "En l'Iris, el model que em dona millors resultats com era d'esperar és el gaussianNB, però em sorpren que el MultinomialNB hagi obtingut també un resultat d'accuracy molt alt.\n",
    "\n",
    "En el playgolf, el model que em dona millors resultats com era d'esperar és el categorical i en aquest cas si que hi ha una diferència significativa amb l'accuracy dels altres models.\n",
    "\n",
    "En el zoo, el model GaussianNB, el CategoricalNB i el BernoulliNB obtenen accuracys molt propers a 1. Em sorprèn que el Gaussian obtingui un accuracy tan alt i entenc que això es dòna a que les dades sí que segueixen una distribució semblant a una gaussiana.\n",
    "\n",
    "En el heart-disease-uci, el model que em dona millors resultats és el categoricalNB, com era d'esperar d'unes dades categòriques per molt que estiguin representades numèricament en les mesures. En aquest dataset però, és en el que obtenim uns accuracys més baixos.\n",
    "\n",
    "En el 20newsgroups, només em funcionava el model fet per un pipeline entre TfidVectorizer i el MultinomialNB, obtenint un accuracy alt com era d'esperar de 0.9."
   ]
  },
  {
   "cell_type": "code",
   "execution_count": 11,
   "metadata": {},
   "outputs": [
    {
     "data": {
      "text/html": [
       "<div>\n",
       "<style scoped>\n",
       "    .dataframe tbody tr th:only-of-type {\n",
       "        vertical-align: middle;\n",
       "    }\n",
       "\n",
       "    .dataframe tbody tr th {\n",
       "        vertical-align: top;\n",
       "    }\n",
       "\n",
       "    .dataframe thead th {\n",
       "        text-align: right;\n",
       "    }\n",
       "</style>\n",
       "<table border=\"1\" class=\"dataframe\">\n",
       "  <thead>\n",
       "    <tr style=\"text-align: right;\">\n",
       "      <th></th>\n",
       "      <th>sepal_len</th>\n",
       "      <th>sepal_wid</th>\n",
       "      <th>petal_len</th>\n",
       "      <th>petal_wid</th>\n",
       "    </tr>\n",
       "  </thead>\n",
       "  <tbody>\n",
       "    <tr>\n",
       "      <th>0</th>\n",
       "      <td>5.1</td>\n",
       "      <td>3.5</td>\n",
       "      <td>1.4</td>\n",
       "      <td>0.2</td>\n",
       "    </tr>\n",
       "    <tr>\n",
       "      <th>1</th>\n",
       "      <td>4.9</td>\n",
       "      <td>3.0</td>\n",
       "      <td>1.4</td>\n",
       "      <td>0.2</td>\n",
       "    </tr>\n",
       "    <tr>\n",
       "      <th>2</th>\n",
       "      <td>4.7</td>\n",
       "      <td>3.2</td>\n",
       "      <td>1.3</td>\n",
       "      <td>0.2</td>\n",
       "    </tr>\n",
       "    <tr>\n",
       "      <th>3</th>\n",
       "      <td>4.6</td>\n",
       "      <td>3.1</td>\n",
       "      <td>1.5</td>\n",
       "      <td>0.2</td>\n",
       "    </tr>\n",
       "    <tr>\n",
       "      <th>4</th>\n",
       "      <td>5.0</td>\n",
       "      <td>3.6</td>\n",
       "      <td>1.4</td>\n",
       "      <td>0.2</td>\n",
       "    </tr>\n",
       "    <tr>\n",
       "      <th>...</th>\n",
       "      <td>...</td>\n",
       "      <td>...</td>\n",
       "      <td>...</td>\n",
       "      <td>...</td>\n",
       "    </tr>\n",
       "    <tr>\n",
       "      <th>145</th>\n",
       "      <td>6.7</td>\n",
       "      <td>3.0</td>\n",
       "      <td>5.2</td>\n",
       "      <td>2.3</td>\n",
       "    </tr>\n",
       "    <tr>\n",
       "      <th>146</th>\n",
       "      <td>6.3</td>\n",
       "      <td>2.5</td>\n",
       "      <td>5.0</td>\n",
       "      <td>1.9</td>\n",
       "    </tr>\n",
       "    <tr>\n",
       "      <th>147</th>\n",
       "      <td>6.5</td>\n",
       "      <td>3.0</td>\n",
       "      <td>5.2</td>\n",
       "      <td>2.0</td>\n",
       "    </tr>\n",
       "    <tr>\n",
       "      <th>148</th>\n",
       "      <td>6.2</td>\n",
       "      <td>3.4</td>\n",
       "      <td>5.4</td>\n",
       "      <td>2.3</td>\n",
       "    </tr>\n",
       "    <tr>\n",
       "      <th>149</th>\n",
       "      <td>5.9</td>\n",
       "      <td>3.0</td>\n",
       "      <td>5.1</td>\n",
       "      <td>1.8</td>\n",
       "    </tr>\n",
       "  </tbody>\n",
       "</table>\n",
       "<p>150 rows × 4 columns</p>\n",
       "</div>"
      ],
      "text/plain": [
       "     sepal_len  sepal_wid  petal_len  petal_wid\n",
       "0          5.1        3.5        1.4        0.2\n",
       "1          4.9        3.0        1.4        0.2\n",
       "2          4.7        3.2        1.3        0.2\n",
       "3          4.6        3.1        1.5        0.2\n",
       "4          5.0        3.6        1.4        0.2\n",
       "..         ...        ...        ...        ...\n",
       "145        6.7        3.0        5.2        2.3\n",
       "146        6.3        2.5        5.0        1.9\n",
       "147        6.5        3.0        5.2        2.0\n",
       "148        6.2        3.4        5.4        2.3\n",
       "149        5.9        3.0        5.1        1.8\n",
       "\n",
       "[150 rows x 4 columns]"
      ]
     },
     "metadata": {},
     "output_type": "display_data"
    },
    {
     "data": {
      "text/plain": [
       "0      0\n",
       "1      0\n",
       "2      0\n",
       "3      0\n",
       "4      0\n",
       "      ..\n",
       "145    2\n",
       "146    2\n",
       "147    2\n",
       "148    2\n",
       "149    2\n",
       "Name: class, Length: 150, dtype: int64"
      ]
     },
     "metadata": {},
     "output_type": "display_data"
    },
    {
     "data": {
      "text/plain": [
       "array([[1.00000000e+000, 1.35784265e-018, 7.11283512e-026],\n",
       "       [1.00000000e+000, 1.51480769e-017, 2.34820051e-025],\n",
       "       [1.00000000e+000, 1.07304179e-018, 2.34026774e-026],\n",
       "       [1.00000000e+000, 1.46619543e-017, 2.95492722e-025],\n",
       "       [1.00000000e+000, 4.53291917e-019, 2.88389975e-026],\n",
       "       [1.00000000e+000, 1.49094245e-014, 1.75752068e-021],\n",
       "       [1.00000000e+000, 1.10262691e-017, 2.71144689e-025],\n",
       "       [1.00000000e+000, 6.53644612e-018, 2.77336308e-025],\n",
       "       [1.00000000e+000, 9.42227052e-018, 1.20443161e-025],\n",
       "       [1.00000000e+000, 3.42348334e-018, 1.20750647e-025],\n",
       "       [1.00000000e+000, 4.38090482e-018, 5.06830427e-025],\n",
       "       [1.00000000e+000, 1.65766943e-017, 7.24748728e-025],\n",
       "       [1.00000000e+000, 1.27573119e-018, 3.28718898e-026],\n",
       "       [1.00000000e+000, 7.73742183e-020, 1.86207920e-027],\n",
       "       [1.00000000e+000, 2.43526387e-019, 8.23627924e-026],\n",
       "       [1.00000000e+000, 3.04074398e-017, 1.66211400e-023],\n",
       "       [1.00000000e+000, 5.42610885e-017, 4.60661360e-024],\n",
       "       [1.00000000e+000, 2.33427918e-017, 8.15420956e-025],\n",
       "       [1.00000000e+000, 6.06809097e-015, 1.02748629e-021],\n",
       "       [1.00000000e+000, 8.54558679e-018, 6.78962703e-025],\n",
       "       [1.00000000e+000, 1.13506227e-015, 7.65275253e-023],\n",
       "       [1.00000000e+000, 6.22989337e-016, 2.90267936e-023],\n",
       "       [1.00000000e+000, 1.89645477e-020, 9.48817058e-028],\n",
       "       [1.00000000e+000, 1.99398085e-011, 3.68049199e-019],\n",
       "       [1.00000000e+000, 1.00058879e-014, 6.15534153e-022],\n",
       "       [1.00000000e+000, 3.49841784e-016, 6.62285086e-024],\n",
       "       [1.00000000e+000, 1.75721873e-014, 4.10706738e-022],\n",
       "       [1.00000000e+000, 7.26529230e-018, 4.36708593e-025],\n",
       "       [1.00000000e+000, 4.11331036e-018, 1.80735687e-025],\n",
       "       [1.00000000e+000, 4.67240237e-017, 1.27884939e-024],\n",
       "       [1.00000000e+000, 1.07710163e-016, 2.38609460e-024],\n",
       "       [1.00000000e+000, 2.17820325e-014, 6.12672716e-022],\n",
       "       [1.00000000e+000, 6.58781348e-021, 3.14606961e-027],\n",
       "       [1.00000000e+000, 3.04886902e-020, 1.36260578e-026],\n",
       "       [1.00000000e+000, 3.04840351e-017, 6.32348452e-025],\n",
       "       [1.00000000e+000, 1.29727473e-018, 2.87999446e-026],\n",
       "       [1.00000000e+000, 3.59748108e-018, 2.45102343e-025],\n",
       "       [1.00000000e+000, 3.65380825e-020, 3.81384200e-027],\n",
       "       [1.00000000e+000, 2.11976920e-018, 3.13900962e-026],\n",
       "       [1.00000000e+000, 9.51488554e-018, 4.23900719e-025],\n",
       "       [1.00000000e+000, 6.10454787e-018, 1.90690879e-025],\n",
       "       [1.00000000e+000, 8.16634024e-016, 2.02011747e-024],\n",
       "       [1.00000000e+000, 6.71335191e-019, 1.53850038e-026],\n",
       "       [1.00000000e+000, 6.99329490e-011, 1.72796105e-018],\n",
       "       [1.00000000e+000, 8.06641165e-013, 7.44897611e-020],\n",
       "       [1.00000000e+000, 1.95284044e-016, 1.97347120e-024],\n",
       "       [1.00000000e+000, 2.34216163e-018, 3.04846703e-025],\n",
       "       [1.00000000e+000, 2.30742580e-018, 5.37811977e-026],\n",
       "       [1.00000000e+000, 2.63876217e-018, 2.79566024e-025],\n",
       "       [1.00000000e+000, 3.58192707e-018, 1.11709612e-025],\n",
       "       [3.21380935e-109, 8.04037666e-001, 1.95962334e-001],\n",
       "       [7.27347795e-102, 9.45169639e-001, 5.48303606e-002],\n",
       "       [1.87142859e-123, 4.56151317e-001, 5.43848683e-001],\n",
       "       [4.26269818e-071, 9.99968751e-001, 3.12488556e-005],\n",
       "       [1.03323094e-107, 9.52441811e-001, 4.75581888e-002],\n",
       "       [2.87936711e-091, 9.99119627e-001, 8.80372566e-004],\n",
       "       [2.24730551e-115, 6.58952285e-001, 3.41047715e-001],\n",
       "       [5.06775312e-035, 9.99999767e-001, 2.33206910e-007],\n",
       "       [6.89469668e-099, 9.90316309e-001, 9.68369084e-003],\n",
       "       [1.94537625e-070, 9.99909746e-001, 9.02536083e-005],\n",
       "       [1.07499306e-041, 9.99999765e-001, 2.35068227e-007],\n",
       "       [8.39601787e-088, 9.96238286e-001, 3.76171369e-003],\n",
       "       [2.74599487e-061, 9.99993984e-001, 6.01632484e-006],\n",
       "       [8.03553250e-106, 9.86090825e-001, 1.39091754e-002],\n",
       "       [3.59466071e-056, 9.99975387e-001, 2.46126406e-005],\n",
       "       [1.95488829e-094, 9.80037003e-001, 1.99629974e-002],\n",
       "       [1.36110261e-099, 9.90687273e-001, 9.31272734e-003],\n",
       "       [1.07527617e-063, 9.99983663e-001, 1.63372809e-005],\n",
       "       [5.69746845e-103, 9.94697108e-001, 5.30289217e-003],\n",
       "       [1.94753554e-059, 9.99993006e-001, 6.99364316e-006],\n",
       "       [2.59153803e-130, 1.54494085e-001, 8.45505915e-001],\n",
       "       [4.50400610e-072, 9.99807026e-001, 1.92973847e-004],\n",
       "       [1.21785680e-121, 9.27077052e-001, 7.29229479e-002],\n",
       "       [1.46662222e-097, 9.98156519e-001, 1.84348055e-003],\n",
       "       [5.99023192e-085, 9.98460816e-001, 1.53918416e-003],\n",
       "       [3.30685495e-094, 9.87471082e-001, 1.25289184e-002],\n",
       "       [8.26876145e-114, 9.12844444e-001, 8.71555561e-002],\n",
       "       [1.16988122e-138, 7.52691316e-002, 9.24730868e-001],\n",
       "       [4.79014570e-101, 9.86480268e-001, 1.35197316e-002],\n",
       "       [2.03454675e-042, 9.99998762e-001, 1.23794211e-006],\n",
       "       [9.57864668e-056, 9.99996447e-001, 3.55251831e-006],\n",
       "       [9.25826782e-049, 9.99998651e-001, 1.34923924e-006],\n",
       "       [1.84940680e-063, 9.99972348e-001, 2.76523927e-005],\n",
       "       [2.14069731e-135, 6.12159845e-001, 3.87840155e-001],\n",
       "       [4.28650560e-099, 9.92476638e-001, 7.52336225e-003],\n",
       "       [9.18770726e-105, 8.76107551e-001, 1.23892449e-001],\n",
       "       [1.26187890e-112, 7.99294752e-001, 2.00705248e-001],\n",
       "       [7.75621059e-090, 9.99385417e-001, 6.14582528e-004],\n",
       "       [6.73000847e-074, 9.99796270e-001, 2.03730114e-004],\n",
       "       [8.52591874e-071, 9.99955234e-001, 4.47664633e-005],\n",
       "       [1.13186560e-082, 9.99873680e-001, 1.26320322e-004],\n",
       "       [5.50870062e-101, 9.89371467e-001, 1.06285328e-002],\n",
       "       [2.30685845e-067, 9.99966229e-001, 3.37713204e-005],\n",
       "       [2.61419455e-035, 9.99999798e-001, 2.02487922e-007],\n",
       "       [1.63464087e-078, 9.99832329e-001, 1.67671378e-004],\n",
       "       [4.69091927e-074, 9.99849875e-001, 1.50125138e-004],\n",
       "       [2.24117241e-078, 9.99714947e-001, 2.85053350e-004],\n",
       "       [3.79879555e-084, 9.98992363e-001, 1.00763708e-003],\n",
       "       [1.39238418e-030, 9.99999769e-001, 2.31316897e-007],\n",
       "       [1.28255689e-074, 9.99847160e-001, 1.52839987e-004],\n",
       "       [3.23245181e-254, 6.35381031e-011, 1.00000000e+000],\n",
       "       [1.06947698e-152, 2.50121636e-002, 9.74987836e-001],\n",
       "       [9.29757229e-221, 1.67915381e-007, 9.99999832e-001],\n",
       "       [8.19326602e-177, 1.99462374e-003, 9.98005376e-001],\n",
       "       [3.53169727e-218, 2.30543408e-007, 9.99999769e-001],\n",
       "       [4.66035479e-273, 2.40976995e-010, 1.00000000e+000],\n",
       "       [2.23463702e-109, 9.73514345e-001, 2.64856553e-002],\n",
       "       [9.79175322e-229, 1.34018147e-006, 9.99998660e-001],\n",
       "       [7.96991225e-192, 4.92901785e-004, 9.99507098e-001],\n",
       "       [9.77310473e-266, 1.40568403e-012, 1.00000000e+000],\n",
       "       [4.89513706e-162, 4.12884116e-004, 9.99587116e-001],\n",
       "       [1.94650439e-166, 2.77742178e-003, 9.97222578e-001],\n",
       "       [5.65575523e-194, 4.80711862e-006, 9.99995193e-001],\n",
       "       [5.02341663e-154, 1.28807070e-002, 9.87119293e-001],\n",
       "       [3.39845739e-190, 1.04253685e-006, 9.99998957e-001],\n",
       "       [3.62196003e-195, 4.50951786e-007, 9.99999549e-001],\n",
       "       [1.05264323e-171, 1.87196581e-003, 9.98128034e-001],\n",
       "       [2.37149659e-287, 1.64574932e-012, 1.00000000e+000],\n",
       "       [1.53723729e-312, 6.47406861e-013, 1.00000000e+000],\n",
       "       [6.31086515e-126, 9.58135362e-001, 4.18646381e-002],\n",
       "       [7.89162997e-222, 1.17116897e-008, 9.99999988e-001],\n",
       "       [3.56137500e-148, 1.37625971e-002, 9.86237403e-001],\n",
       "       [1.99492777e-274, 7.58240410e-010, 9.99999999e-001],\n",
       "       [7.67047647e-138, 1.29986728e-001, 8.70013272e-001],\n",
       "       [4.92284385e-205, 9.71777952e-007, 9.99999028e-001],\n",
       "       [3.71633871e-207, 7.39901993e-006, 9.99992601e-001],\n",
       "       [3.33635564e-132, 1.99928220e-001, 8.00071780e-001],\n",
       "       [1.61795839e-136, 1.07483532e-001, 8.92516468e-001],\n",
       "       [5.64350404e-198, 1.09467814e-005, 9.99989053e-001],\n",
       "       [1.54090618e-182, 7.01805717e-004, 9.99298194e-001],\n",
       "       [2.21131951e-222, 9.06238441e-007, 9.99999094e-001],\n",
       "       [2.23671366e-252, 2.96730516e-010, 1.00000000e+000],\n",
       "       [1.68672118e-205, 1.50788229e-006, 9.99998492e-001],\n",
       "       [2.68382583e-131, 7.12645144e-001, 2.87354856e-001],\n",
       "       [6.80723305e-154, 4.86199285e-001, 5.13800715e-001],\n",
       "       [6.08114349e-254, 8.98578646e-011, 1.00000000e+000],\n",
       "       [3.90608086e-220, 6.58848820e-009, 9.99999993e-001],\n",
       "       [5.02789443e-171, 1.90227600e-003, 9.98097724e-001],\n",
       "       [4.75226288e-131, 1.93183856e-001, 8.06816144e-001],\n",
       "       [1.40365213e-188, 5.23126458e-006, 9.99994769e-001],\n",
       "       [8.02061979e-223, 5.01446576e-009, 9.99999995e-001],\n",
       "       [3.87252859e-187, 4.67798053e-007, 9.99999532e-001],\n",
       "       [1.06947698e-152, 2.50121636e-002, 9.74987836e-001],\n",
       "       [7.07688248e-234, 4.42556022e-009, 9.99999996e-001],\n",
       "       [3.56898830e-237, 1.64602693e-010, 1.00000000e+000],\n",
       "       [1.56556628e-191, 5.85507962e-007, 9.99999414e-001],\n",
       "       [1.06062035e-149, 2.54457623e-002, 9.74554238e-001],\n",
       "       [7.98859322e-168, 3.70166862e-004, 9.99629833e-001],\n",
       "       [1.44378562e-199, 2.46020435e-007, 9.99999754e-001],\n",
       "       [3.25988243e-146, 5.60050092e-002, 9.43994991e-001]])"
      ]
     },
     "execution_count": 11,
     "metadata": {},
     "output_type": "execute_result"
    }
   ],
   "source": [
    "display(X_Iris ,y_Iris)\n",
    "m = GaussianNB()\n",
    "m.fit(X_Iris, y_Iris)\n",
    "m.predict_proba(X_Iris)"
   ]
  },
  {
   "cell_type": "markdown",
   "metadata": {},
   "source": [
    "5.\n",
    "\n",
    "Sí que es possible, seguint les fòrmules, el que hauriem de fer es diferenciar el atribut segons quin tipus és (discret, categòric o continu) i montar un model on la probabilitat està basada en la probabilitat de cada atribut segons quin tipus de dades conté. Per exemple doncs, si tinguessim un dataset amb dades discretes i categòriques, pels atributs discrets calculariem les probabilitats com:\n",
    "$$P(x_i \\mid y) = P(i \\mid y) · x_i + (1 - P(i \\mid y)) · (1 - x_i)$$\n",
    "\n",
    "I per els atributs categòrics ho calculariem així:\n",
    "$$P(x_i = t \\mid y = c ; \\alpha) = \\frac{ N_{tic} + \\alpha}{N_{c} + \\alpha n_i}$$\n",
    "\n",
    "\n",
    "És a dir, tindriem un model final amb diferents models per atribut."
   ]
  },
  {
   "cell_type": "markdown",
   "metadata": {},
   "source": [
    "## B. Implementació Naive Bayes (40%)\n",
    "\n",
    "En aquest apartat implementarem un classificador Ingenu de Bayes per cada un dels tipus de dades. Per fer això, i que sigui fàcil de comparar amb els resultats del apartat anterior, feu servir un esquelet similar al següent:\n",
    "        \n"
   ]
  },
  {
   "cell_type": "markdown",
   "metadata": {},
   "source": [
    "### NaiveBayes Base"
   ]
  },
  {
   "cell_type": "code",
   "execution_count": 119,
   "metadata": {},
   "outputs": [],
   "source": [
    "from collections import Counter\n",
    "import math\n",
    "\n",
    "class NaiveBayes(object):\n",
    "    def __init__(self, alpha):\n",
    "        self.alpha = alpha\n",
    "        self.n_samples = 0\n",
    "        self.class_count_ = []  # numero de exemples de cada categoria\n",
    "        self.class_prior_ = []  # prior per cada categoria\n",
    "        self.classes_ = []      # nom o etiqueta de cada label\n",
    "        \n",
    "\n",
    "    def __str__(self):\n",
    "        # toString()  \n",
    "        return (self.__class__.__name__+\"()\")\n",
    "        \n",
    "    def calcular_conditional(self, X, y):\n",
    "        \"\"\"\n",
    "        Compute the conditional probability for the training data for each feature\n",
    "        \"\"\"\n",
    "     \n",
    "        raise(\"TO BE DONE. Ho heu que implementar per cada subclasse\")\n",
    "    \n",
    "    def calcular_likelihood_log(self, X):\n",
    "        \"\"\"\n",
    "        Compute the unnormalized posterior log probability of X\n",
    "        \"\"\"\n",
    "        \n",
    "        raise(\"TO BE DONE. Ho heu que implementar per cada subclasse\")\n",
    "\n",
    "    def calcular_prior(self, y):\n",
    "        \"\"\"\n",
    "        Compute the class prior\n",
    "        \"\"\"\n",
    "        for i in Counter(y).values():\n",
    "            self.class_prior_.append(i/len(y))   #Calcula la p(y) de cada y\n",
    "            self.class_count_.append(i)\n",
    "        \n",
    "        \n",
    "        #raise(\"TO BE DONE.\")\n",
    "\n",
    "\n",
    "    def predict(self, X):\n",
    "        probs = self.predict_proba(X)\n",
    "        print('probs',probs)\n",
    "        return self.classes_[np.argmax(probs, axis=0)]\n",
    "    \n",
    "    def predict_proba(self, X):\n",
    "        probs = np.exp(self.predict_log_proba(X))\n",
    "        total_sum = np.sum(probs)\n",
    "        for i in range(len(self.classes_)):\n",
    "            probs[i] /= total_sum\n",
    "        return probs\n",
    "\n",
    "    def predict_log_proba(self, X):\n",
    "        probs = self.calcular_likelihood_log(X)\n",
    "        for i in range(len(self.classes_)):\n",
    "            probs[i] += np.log(self.class_prior_[i]) \n",
    "        return probs\n",
    "\n",
    "    \n",
    "    def score(self, X, y):\n",
    "        return np.sum(self.predict(X) == y) / len(y)\n",
    "        \n",
    "    def fit(self, X, y):\n",
    "\n",
    "        self.n_samples = X.shape[0]\n",
    "        self.classes_ = np.unique(y)\n",
    "\n",
    "        # calcular p(y)\n",
    "        self.calcular_prior(y)\n",
    "        \n",
    "        if type(X) == type(pd.DataFrame()):\n",
    "            X = X.to_numpy()\n",
    "\n",
    "        if type(y) == type(pd.Series()):\n",
    "            y = y.to_numpy()\n",
    "        \n",
    "        # per cada una de les columnes de x # a baix\n",
    "        # calcular p(xi | y)\n",
    "        self.calcular_conditional(X, y)\n",
    "        \n"
   ]
  },
  {
   "cell_type": "markdown",
   "metadata": {},
   "source": [
    "### GaussianNaiveBayes"
   ]
  },
  {
   "cell_type": "code",
   "execution_count": 120,
   "metadata": {},
   "outputs": [],
   "source": [
    "class GaussianNaiveBayes(NaiveBayes):\n",
    "    def __init__(self, alpha=1):\n",
    "        super().__init__(alpha)\n",
    "        self.theta_ = None  # mean\n",
    "        self.sigma_ = None  # var\n",
    "        \n",
    "\n",
    "    def calcular_conditional(self, X, y):\n",
    "        # todo\n",
    "        # heu de calcular la mitjana i la variança per cada una de les categories y\n",
    "        self.theta_ = np.zeros((len(self.classes_), X.shape[1]))\n",
    "        self.sigma_ = np.zeros((len(self.classes_), X.shape[1]))\n",
    "        for i in range(len(self.classes_)):\n",
    "            self.theta_[i] = np.mean(X[y == self.classes_[i] ,:], axis = 0) #np.argwhere(y == self.classes_[i]).flatten() ,:]\n",
    "            self.sigma_[i] = np.std(X[y == self.classes_[i] ,:], axis = 0)  #np.argwhere(y == self.classes_[i]).flatten()            \n",
    "        \n",
    "                                \n",
    "    def calcular_likelihood_log(self, X):\n",
    "        # aplicar la formula de com s'apropa X a les vostres theha i sigma..\n",
    "        # tip: recomenat utilitzar suma de logaritmes enlloc de productes per estabilitat\n",
    "        if type(X) == type(pd.DataFrame()) or type(X) == type(pd.Series()):\n",
    "            X = X.to_numpy()\n",
    "        \n",
    "        a = np.sum(np.sqrt(2 * np.pi * self.sigma_**2), axis = 1)\n",
    "        b = np.sum(2*self.sigma_**2, axis = 1)\n",
    "        c = np.sum((X - self.theta_)**2, axis = 1)\n",
    "        return (1/a) * np.exp(-(b/c))\n",
    "        \n",
    "        #return np.sum(np.log((np.exp(-((X - self.theta_)**2 / 2*self.sigma_**2)) / np.sqrt(2 * np.pi * self.sigma_**2))), axis = 1)\n",
    "                 \n",
    "    "
   ]
  },
  {
   "cell_type": "markdown",
   "metadata": {},
   "source": [
    "Per exemple entrenant amb l'Iris i fent una predicció d'una fila del Iris aleatòria:"
   ]
  },
  {
   "cell_type": "code",
   "execution_count": 126,
   "metadata": {},
   "outputs": [
    {
     "name": "stdout",
     "output_type": "stream",
     "text": [
      "Matriu mean:\n",
      " [[5.006 3.428 1.462 0.246]\n",
      " [5.936 2.77  4.26  1.326]\n",
      " [6.588 2.974 5.552 2.026]] \n",
      "Matriu std:\n",
      " [[0.34894699 0.37525458 0.17191859 0.10432641]\n",
      " [0.51098337 0.31064449 0.46518813 0.19576517]\n",
      " [0.62948868 0.31925538 0.54634787 0.27188968]]\n",
      "probs [0.39920427 0.33032948 0.27046625]\n",
      "out: 0\n"
     ]
    },
    {
     "name": "stderr",
     "output_type": "stream",
     "text": [
      "/home/pol/anaconda3/lib/python3.7/site-packages/ipykernel_launcher.py:76: DeprecationWarning: The default dtype for empty Series will be 'object' instead of 'float64' in a future version. Specify a dtype explicitly to silence this warning.\n",
      "/home/pol/anaconda3/lib/python3.7/site-packages/ipykernel_launcher.py:21: DeprecationWarning: The default dtype for empty Series will be 'object' instead of 'float64' in a future version. Specify a dtype explicitly to silence this warning.\n"
     ]
    },
    {
     "data": {
      "text/plain": [
       "2"
      ]
     },
     "execution_count": 126,
     "metadata": {},
     "output_type": "execute_result"
    }
   ],
   "source": [
    "a = GaussianNaiveBayes()\n",
    "a.fit(X_Iris, y_Iris)\n",
    "print('Matriu mean:\\n',a.theta_, '\\nMatriu std:\\n', a.sigma_)\n",
    "n = 120\n",
    "X = X_Iris[n]\n",
    "print('out:',a.predict(X))\n",
    "y_Iris[n]"
   ]
  },
  {
   "cell_type": "markdown",
   "metadata": {},
   "source": [
    "### CategoricalNaiveBayes"
   ]
  },
  {
   "cell_type": "code",
   "execution_count": 79,
   "metadata": {},
   "outputs": [],
   "source": [
    "import math\n",
    "class CategoricalNaiveBayes(NaiveBayes):\n",
    "    def __init__(self, alpha=1):\n",
    "        super().__init__(alpha)\n",
    "        self.category_prob_ = None\n",
    "        self.feature_log_prob_ = []\n",
    "            \n",
    "    def calcular_conditional(self, X, y):\n",
    "        # todo\n",
    "        # contar quants cops apareix cada categoria #A cada atribut?\n",
    "        self.category_prob_ = [0]*X.shape[1]\n",
    "        for i in range(X.shape[1]):\n",
    "            values = np.unique(X[:,i])\n",
    "            mat = np.zeros((len(values), len(self.classes_)))\n",
    "            for val in range(len(values)):\n",
    "                for cl in range(len(self.classes_)):\n",
    "                    # convertir els counts a probabilitats segons la formula\n",
    "                    mat[val][cl] = (sum((X[:,i]==values[val]) & (y==self.classes_[cl])) + self.alpha)/(sum(y==self.classes_[cl]) + self.alpha*len(values))\n",
    "            self.category_prob_[i] = mat\n",
    "        \n",
    "        \n",
    "\n",
    "    def calcular_likelihood_log(self, X):\n",
    "        # todo\n",
    "        # sumar el logaritme de les probabilitats segons X  \n",
    "        if type(X) == type(pd.DataFrame()):\n",
    "            X = X.to_numpy()\n",
    "\n",
    "           \n",
    "        self.feature_log_prob_ = np.zeros((X.shape[0], len(self.classes_)))\n",
    "        for i in range(X.shape[0]):\n",
    "            for k in range(len(self.classes_)):\n",
    "                prob_ = 0\n",
    "                for j in range(X.shape[1]):\n",
    "                    prob_ += math.log(self.category_prob_[j][np.where(np.unique(X[:,j]) == X[i,j])[0][0],k])\n",
    "                self.feature_log_prob_[i][k] = prob_\n",
    "        return self.feature_log_prob_\n"
   ]
  },
  {
   "cell_type": "code",
   "execution_count": 115,
   "metadata": {},
   "outputs": [
    {
     "name": "stderr",
     "output_type": "stream",
     "text": [
      "/home/pol/anaconda3/lib/python3.7/site-packages/ipykernel_launcher.py:77: DeprecationWarning: The default dtype for empty Series will be 'object' instead of 'float64' in a future version. Specify a dtype explicitly to silence this warning.\n"
     ]
    },
    {
     "name": "stdout",
     "output_type": "stream",
     "text": [
      "Matriu probabilitats:\n",
      " [array([[0.02352941, 0.01176471, 0.01176471],\n",
      "       [0.04705882, 0.01176471, 0.01176471],\n",
      "       [0.02352941, 0.01176471, 0.01176471],\n",
      "       [0.05882353, 0.01176471, 0.01176471],\n",
      "       [0.03529412, 0.01176471, 0.01176471],\n",
      "       [0.07058824, 0.01176471, 0.01176471],\n",
      "       [0.05882353, 0.02352941, 0.02352941],\n",
      "       [0.10588235, 0.03529412, 0.01176471],\n",
      "       [0.10588235, 0.02352941, 0.01176471],\n",
      "       [0.04705882, 0.02352941, 0.01176471],\n",
      "       [0.02352941, 0.01176471, 0.01176471],\n",
      "       [0.07058824, 0.02352941, 0.01176471],\n",
      "       [0.03529412, 0.07058824, 0.01176471],\n",
      "       [0.01176471, 0.07058824, 0.02352941],\n",
      "       [0.03529412, 0.07058824, 0.02352941],\n",
      "       [0.02352941, 0.04705882, 0.04705882],\n",
      "       [0.01176471, 0.03529412, 0.02352941],\n",
      "       [0.01176471, 0.05882353, 0.03529412],\n",
      "       [0.01176471, 0.05882353, 0.03529412],\n",
      "       [0.01176471, 0.03529412, 0.03529412],\n",
      "       [0.01176471, 0.04705882, 0.08235294],\n",
      "       [0.01176471, 0.03529412, 0.07058824],\n",
      "       [0.01176471, 0.02352941, 0.05882353],\n",
      "       [0.01176471, 0.03529412, 0.01176471],\n",
      "       [0.01176471, 0.04705882, 0.07058824],\n",
      "       [0.01176471, 0.02352941, 0.03529412],\n",
      "       [0.01176471, 0.02352941, 0.04705882],\n",
      "       [0.01176471, 0.02352941, 0.01176471],\n",
      "       [0.01176471, 0.01176471, 0.02352941],\n",
      "       [0.01176471, 0.01176471, 0.04705882],\n",
      "       [0.01176471, 0.01176471, 0.02352941],\n",
      "       [0.01176471, 0.01176471, 0.02352941],\n",
      "       [0.01176471, 0.01176471, 0.02352941],\n",
      "       [0.01176471, 0.01176471, 0.05882353],\n",
      "       [0.01176471, 0.01176471, 0.02352941]]), array([[0.01369863, 0.02739726, 0.01369863],\n",
      "       [0.01369863, 0.04109589, 0.02739726],\n",
      "       [0.02739726, 0.05479452, 0.01369863],\n",
      "       [0.01369863, 0.05479452, 0.01369863],\n",
      "       [0.01369863, 0.06849315, 0.06849315],\n",
      "       [0.01369863, 0.05479452, 0.04109589],\n",
      "       [0.01369863, 0.08219178, 0.06849315],\n",
      "       [0.01369863, 0.09589041, 0.12328767],\n",
      "       [0.02739726, 0.10958904, 0.04109589],\n",
      "       [0.09589041, 0.12328767, 0.17808219],\n",
      "       [0.06849315, 0.05479452, 0.06849315],\n",
      "       [0.08219178, 0.05479452, 0.08219178],\n",
      "       [0.04109589, 0.02739726, 0.05479452],\n",
      "       [0.1369863 , 0.02739726, 0.04109589],\n",
      "       [0.09589041, 0.01369863, 0.01369863],\n",
      "       [0.05479452, 0.01369863, 0.02739726],\n",
      "       [0.05479452, 0.01369863, 0.01369863],\n",
      "       [0.06849315, 0.01369863, 0.04109589],\n",
      "       [0.04109589, 0.01369863, 0.01369863],\n",
      "       [0.02739726, 0.01369863, 0.01369863],\n",
      "       [0.02739726, 0.01369863, 0.01369863],\n",
      "       [0.02739726, 0.01369863, 0.01369863],\n",
      "       [0.02739726, 0.01369863, 0.01369863]]), array([[0.02150538, 0.01075269, 0.01075269],\n",
      "       [0.02150538, 0.01075269, 0.01075269],\n",
      "       [0.03225806, 0.01075269, 0.01075269],\n",
      "       [0.08602151, 0.01075269, 0.01075269],\n",
      "       [0.15053763, 0.01075269, 0.01075269],\n",
      "       [0.15053763, 0.01075269, 0.01075269],\n",
      "       [0.08602151, 0.01075269, 0.01075269],\n",
      "       [0.05376344, 0.01075269, 0.01075269],\n",
      "       [0.03225806, 0.01075269, 0.01075269],\n",
      "       [0.01075269, 0.02150538, 0.01075269],\n",
      "       [0.01075269, 0.03225806, 0.01075269],\n",
      "       [0.01075269, 0.03225806, 0.01075269],\n",
      "       [0.01075269, 0.02150538, 0.01075269],\n",
      "       [0.01075269, 0.02150538, 0.01075269],\n",
      "       [0.01075269, 0.02150538, 0.01075269],\n",
      "       [0.01075269, 0.04301075, 0.01075269],\n",
      "       [0.01075269, 0.06451613, 0.01075269],\n",
      "       [0.01075269, 0.04301075, 0.01075269],\n",
      "       [0.01075269, 0.05376344, 0.01075269],\n",
      "       [0.01075269, 0.03225806, 0.01075269],\n",
      "       [0.01075269, 0.05376344, 0.01075269],\n",
      "       [0.01075269, 0.08602151, 0.02150538],\n",
      "       [0.01075269, 0.04301075, 0.01075269],\n",
      "       [0.01075269, 0.06451613, 0.01075269],\n",
      "       [0.01075269, 0.03225806, 0.03225806],\n",
      "       [0.01075269, 0.03225806, 0.04301075],\n",
      "       [0.01075269, 0.02150538, 0.04301075],\n",
      "       [0.01075269, 0.02150538, 0.08602151],\n",
      "       [0.01075269, 0.01075269, 0.03225806],\n",
      "       [0.01075269, 0.01075269, 0.03225806],\n",
      "       [0.01075269, 0.01075269, 0.03225806],\n",
      "       [0.01075269, 0.01075269, 0.04301075],\n",
      "       [0.01075269, 0.01075269, 0.07526882],\n",
      "       [0.01075269, 0.01075269, 0.04301075],\n",
      "       [0.01075269, 0.01075269, 0.04301075],\n",
      "       [0.01075269, 0.01075269, 0.03225806],\n",
      "       [0.01075269, 0.01075269, 0.03225806],\n",
      "       [0.01075269, 0.01075269, 0.04301075],\n",
      "       [0.01075269, 0.01075269, 0.02150538],\n",
      "       [0.01075269, 0.01075269, 0.02150538],\n",
      "       [0.01075269, 0.01075269, 0.02150538],\n",
      "       [0.01075269, 0.01075269, 0.03225806],\n",
      "       [0.01075269, 0.01075269, 0.02150538]]), array([[0.08333333, 0.01388889, 0.01388889],\n",
      "       [0.41666667, 0.01388889, 0.01388889],\n",
      "       [0.11111111, 0.01388889, 0.01388889],\n",
      "       [0.11111111, 0.01388889, 0.01388889],\n",
      "       [0.02777778, 0.01388889, 0.01388889],\n",
      "       [0.02777778, 0.01388889, 0.01388889],\n",
      "       [0.01388889, 0.11111111, 0.01388889],\n",
      "       [0.01388889, 0.05555556, 0.01388889],\n",
      "       [0.01388889, 0.08333333, 0.01388889],\n",
      "       [0.01388889, 0.19444444, 0.01388889],\n",
      "       [0.01388889, 0.11111111, 0.02777778],\n",
      "       [0.01388889, 0.15277778, 0.04166667],\n",
      "       [0.01388889, 0.05555556, 0.02777778],\n",
      "       [0.01388889, 0.02777778, 0.02777778],\n",
      "       [0.01388889, 0.02777778, 0.16666667],\n",
      "       [0.01388889, 0.01388889, 0.08333333],\n",
      "       [0.01388889, 0.01388889, 0.09722222],\n",
      "       [0.01388889, 0.01388889, 0.09722222],\n",
      "       [0.01388889, 0.01388889, 0.05555556],\n",
      "       [0.01388889, 0.01388889, 0.125     ],\n",
      "       [0.01388889, 0.01388889, 0.05555556],\n",
      "       [0.01388889, 0.01388889, 0.05555556]])]\n"
     ]
    }
   ],
   "source": [
    "cn = CategoricalNaiveBayes()\n",
    "cn.fit(X_Iris, y_Iris)\n",
    "print('Matriu probabilitats:\\n',cn.category_prob_)"
   ]
  },
  {
   "cell_type": "markdown",
   "metadata": {},
   "source": [
    "### MultinomialNaiveBayes"
   ]
  },
  {
   "cell_type": "code",
   "execution_count": 82,
   "metadata": {},
   "outputs": [],
   "source": [
    "class MultinomialNaiveBayes(NaiveBayes):\n",
    "    def __init__(self, alpha=1):\n",
    "        super().__init__(alpha)\n",
    "        self.feature_log_prob_ = []\n",
    "\n",
    "    def calcular_conditional(self, X, y):\n",
    "        # todo\n",
    "        # calcular self.feature_log_prob_ segons la formula corresponent\n",
    "        pass\n",
    "\n",
    "    def calcular_likelihood_log(self, X):\n",
    "        # todo\n",
    "        # dot product entre les features i les vostres probabilitats calculades     \n",
    "        pass"
   ]
  },
  {
   "cell_type": "markdown",
   "metadata": {},
   "source": [
    "#### Preguntes\n",
    "Per aquest apartat, intenteu de fer-ho en python directament, per a poder debugar el codi més fàcilment. Compareu el vostre resultat amb el de sklearn. Feu-ho també per passos intermitjos, i veure que ho esteu fent correctament.\n",
    "\n",
    "1. Implementa $P(x_i|y)$ per dades categoriques (Categorical Naive Bayes)\n",
    "2. Implementa $P(x_i|y)$ per dades continues (Gaussian Naive Bayes)\n",
    "3. Compara els resultats obtinguts amb els de sklearn. S'assemblen?\n",
    "4. (opcional) Implementa $P(x_i|y)$ per dades ordinals (Multinomial Naive Bayes) (+1pts)\n"
   ]
  },
  {
   "cell_type": "markdown",
   "metadata": {},
   "source": [
    "1.\n",
    "\n",
    "He conseguit implementar correctament la funció calcular conditional i la funció calcular prior, però per algun motiu que no he arribat a esbrinar no he aconseguit que em calculi correctament les probabilitats. Em retorna 3 probabilitats però sempre em surten al voltant de 1/classes i una mica mogudes cap al primer valor p.e. al Iris sempre em surt classe 0 i al golf sempre em surt 'yes' ([0.54,0.46]). He intentat fer tot l'exercici vectoritzant i potser en algun punt del codi faig alguna operació incorrecta. \n",
    "\n",
    "Així doncs, bàsicament em predeix tots els valors gairebé aleatoriment."
   ]
  },
  {
   "cell_type": "markdown",
   "metadata": {},
   "source": [
    "2.\n",
    "\n",
    "Tal i com en l'apart anterior, aquesta vegada sense vectoritzar, però he aconseguit fer correctament la funció calcular condicional, però no he aconseguit fer la operació calclular likehood. Tot i haver-ho intentat repetidament, no he aconseguit establir la relació correcta entre les taules de probabilitats i l'algorisme de càlcul. Crec que el problema ha estat que ho he intentat fer vectoritzant però en aquest subapartat és o molt díficl vectoritzar-lo sencer amb numpy o impossible ja que el nostre resultat gairebé sempre serà un array amb dimensions diverses, de manera que no podem operar amb les matrius senceres, i quan he arribat a aquesta conclusió ja no he tingut temps de programar-ho de nou."
   ]
  },
  {
   "cell_type": "code",
   "execution_count": null,
   "metadata": {},
   "outputs": [],
   "source": []
  },
  {
   "cell_type": "markdown",
   "metadata": {},
   "source": [
    "## Appendix \n",
    "#### (no s'hi ha de fer res, tan sols es per si us ajuda a entendre-ho tot millor)"
   ]
  },
  {
   "cell_type": "markdown",
   "metadata": {},
   "source": [
    "<!--BOOK_INFORMATION-->\n",
    "<img align=\"left\" style=\"padding-right:10px;\" src=\"https://github.com/jakevdp/PythonDataScienceHandbook/blob/master/notebooks/figures/PDSH-cover-small.png?raw=1\">\n",
    "\n",
    "*Aquesta subsecció conté parts extretes de [Python Data Science Handbook](http://shop.oreilly.com/product/0636920034919.do) by Jake VanderPlas; i està disponible a [GitHub](https://github.com/jakevdp/PythonDataScienceHandbook).*\n",
    "\n",
    "\n",
    "\n",
    "Naive Bayes models are a group of extremely fast and simple classification algorithms that are often suitable for very high-dimensional datasets.\n",
    "\n",
    "Because they are so fast and have so few tunable parameters, they end up being very useful as a quick-and-dirty baseline for a classification problem.\n",
    "\n",
    "This section will focus on an intuitive explanation of how naive Bayes classifiers work, followed by a couple examples of them in action on some datasets."
   ]
  },
  {
   "cell_type": "markdown",
   "metadata": {},
   "source": [
    "### Bayesian Classification\n",
    "\n",
    "Naive Bayes classifiers are built on Bayesian classification methods.\n",
    "\n",
    "These rely on Bayes's theorem, which is an equation describing the relationship of conditional probabilities of statistical quantities.\n",
    "\n",
    "In Bayesian classification, we're interested in finding the probability of a label given some observed features, which we can write as $P(L~|~{\\rm features})$.\n",
    "\n",
    "Bayes's theorem tells us how to express this in terms of quantities we can compute more directly:\n",
    "\n",
    "$$\n",
    "P(L~|~{\\rm features}) = \\frac{P({\\rm features}~|~L)P(L)}{P({\\rm features})}\n",
    "$$\n",
    "\n",
    "If we are trying to decide between two labels—let's call them $L_1$ and $L_2$—then one way to make this decision is to compute the ratio of the posterior probabilities for each label:\n",
    "\n",
    "$$\n",
    "\\frac{P(L_1~|~{\\rm features})}{P(L_2~|~{\\rm features})} = \\frac{P({\\rm features}~|~L_1)}{P({\\rm features}~|~L_2)}\\frac{P(L_1)}{P(L_2)}\n",
    "$$\n",
    "\n",
    "All we need now is some model by which we can compute $P({\\rm features}~|~L_i)$ for each label.\n",
    "\n",
    "Such a model is called a *generative model* because it specifies the hypothetical random process that generates the data.\n",
    "\n",
    "Specifying this generative model for each label is the main piece of the training of such a Bayesian classifier.\n",
    "\n",
    "The general version of such a training step is a very difficult task, but we can make it simpler through the use of some simplifying assumptions about the form of this model.\n",
    "\n",
    "This is where the \"naive\" in \"naive Bayes\" comes in: if we make very naive assumptions about the generative model for each label, we can find a rough approximation of the generative model for each class, and then proceed with the Bayesian classification.\n",
    "\n",
    "Different types of naive Bayes classifiers rest on different naive assumptions about the data, and we will examine a few of these in the following sections.\n",
    "\n",
    "We begin with the standard imports:"
   ]
  },
  {
   "cell_type": "code",
   "execution_count": 34,
   "metadata": {
    "pycharm": {
     "name": "#%%\n"
    }
   },
   "outputs": [],
   "source": [
    "%matplotlib inline\n",
    "import numpy as np\n",
    "import matplotlib.pyplot as plt\n",
    "import seaborn as sns"
   ]
  },
  {
   "cell_type": "markdown",
   "metadata": {},
   "source": [
    "### Gaussian Naive Bayes\n",
    "\n",
    "Perhaps the easiest naive Bayes classifier to understand is Gaussian naive Bayes.\n",
    "In this classifier, the assumption is that *data from each label is drawn from a simple Gaussian distribution*.\n",
    "Imagine that you have the following data:"
   ]
  },
  {
   "cell_type": "code",
   "execution_count": 35,
   "metadata": {
    "pycharm": {
     "name": "#%%\n"
    }
   },
   "outputs": [
    {
     "data": {
      "image/png": "[encoded data removed]",
      "text/plain": [
       "<Figure size 432x288 with 1 Axes>"
      ]
     },
     "metadata": {
      "needs_background": "light"
     },
     "output_type": "display_data"
    }
   ],
   "source": [
    "from sklearn.datasets import make_blobs\n",
    "X, y = make_blobs(100, 2, centers=2, random_state=2, cluster_std=1.5)\n",
    "plt.scatter(X[:, 0], X[:, 1], c=y, s=50, cmap='RdBu');"
   ]
  },
  {
   "cell_type": "markdown",
   "metadata": {},
   "source": [
    "One extremely fast way to create a simple model is to assume that the data is described by a Gaussian distribution with no covariance between dimensions.\n",
    "\n",
    "This model can be fit by simply finding the mean and standard deviation of the points within each label, which is all you need to define such a distribution.\n",
    "\n",
    "The result of this naive Gaussian assumption is shown in the following figure:"
   ]
  },
  {
   "cell_type": "markdown",
   "metadata": {},
   "source": [
    "The ellipses here represent the Gaussian generative model for each label, with larger probability toward the center of the ellipses.\n",
    "\n",
    "With this generative model in place for each class, we have a simple recipe to compute the likelihood $P({\\rm features}~|~L_1)$ for any data point, and thus we can quickly compute the posterior ratio and determine which label is the most probable for a given point.\n",
    "\n",
    "This procedure is implemented in Scikit-Learn's ``sklearn.naive_bayes.GaussianNB`` estimator:"
   ]
  },
  {
   "cell_type": "code",
   "execution_count": 36,
   "metadata": {
    "pycharm": {
     "name": "#%%\n"
    }
   },
   "outputs": [
    {
     "data": {
      "text/plain": [
       "GaussianNB(priors=None, var_smoothing=1e-09)"
      ]
     },
     "execution_count": 36,
     "metadata": {},
     "output_type": "execute_result"
    }
   ],
   "source": [
    "from sklearn.naive_bayes import GaussianNB\n",
    "model = GaussianNB()\n",
    "model.fit(X, y)"
   ]
  },
  {
   "cell_type": "markdown",
   "metadata": {},
   "source": [
    "Now let's generate some new data and predict the label:"
   ]
  },
  {
   "cell_type": "code",
   "execution_count": 37,
   "metadata": {
    "pycharm": {
     "name": "#%%\n"
    }
   },
   "outputs": [],
   "source": [
    "rng = np.random.RandomState(0)\n",
    "Xnew = [-6, -14] + [14, 18] * rng.rand(2000, 2)\n",
    "ynew = model.predict(Xnew)"
   ]
  },
  {
   "cell_type": "markdown",
   "metadata": {},
   "source": [
    "Now we can plot this new data to get an idea of where the decision boundary is:"
   ]
  },
  {
   "cell_type": "code",
   "execution_count": 38,
   "metadata": {
    "pycharm": {
     "name": "#%%\n"
    }
   },
   "outputs": [
    {
     "data": {
      "image/png": "[encoded data removed]",
      "text/plain": [
       "<Figure size 432x288 with 1 Axes>"
      ]
     },
     "metadata": {
      "needs_background": "light"
     },
     "output_type": "display_data"
    }
   ],
   "source": [
    "plt.scatter(X[:, 0], X[:, 1], c=y, s=50, cmap='RdBu')\n",
    "lim = plt.axis()\n",
    "plt.scatter(Xnew[:, 0], Xnew[:, 1], c=ynew, s=20, cmap='RdBu', alpha=0.1)\n",
    "plt.axis(lim);"
   ]
  },
  {
   "cell_type": "markdown",
   "metadata": {},
   "source": [
    "We see a slightly curved boundary in the classifications—in general, the boundary in Gaussian naive Bayes is quadratic.\n",
    "\n",
    "A nice piece of this Bayesian formalism is that it naturally allows for probabilistic classification, which we can compute using the ``predict_proba`` method:"
   ]
  },
  {
   "cell_type": "code",
   "execution_count": 39,
   "metadata": {
    "pycharm": {
     "name": "#%%\n"
    }
   },
   "outputs": [
    {
     "data": {
      "text/plain": [
       "array([[0.89, 0.11],\n",
       "       [1.  , 0.  ],\n",
       "       [1.  , 0.  ],\n",
       "       [1.  , 0.  ],\n",
       "       [1.  , 0.  ],\n",
       "       [1.  , 0.  ],\n",
       "       [0.  , 1.  ],\n",
       "       [0.15, 0.85]])"
      ]
     },
     "execution_count": 39,
     "metadata": {},
     "output_type": "execute_result"
    }
   ],
   "source": [
    "yprob = model.predict_proba(Xnew)\n",
    "yprob[-8:].round(2)"
   ]
  },
  {
   "cell_type": "code",
   "execution_count": 40,
   "metadata": {},
   "outputs": [
    {
     "data": {
      "text/plain": [
       "array([0, 1])"
      ]
     },
     "execution_count": 40,
     "metadata": {},
     "output_type": "execute_result"
    }
   ],
   "source": [
    "model.classes_"
   ]
  },
  {
   "cell_type": "markdown",
   "metadata": {},
   "source": [
    "The columns give the posterior probabilities of the first and second label, respectively.\n",
    "If you are looking for estimates of uncertainty in your classification, Bayesian approaches like this can be a useful approach.\n",
    "\n",
    "Of course, the final classification will only be as good as the model assumptions that lead to it, which is why Gaussian naive Bayes often does not produce very good results.\n",
    "Still, in many cases—especially as the number of features becomes large—this assumption is not detrimental enough to prevent Gaussian naive Bayes from being a useful method."
   ]
  },
  {
   "cell_type": "markdown",
   "metadata": {},
   "source": [
    "## Multinomial Naive Bayes\n",
    "\n",
    "The Gaussian assumption just described is by no means the only simple assumption that could be used to specify the generative distribution for each label.\n",
    "Another useful example is multinomial naive Bayes, where the features are assumed to be generated from a simple multinomial distribution.\n",
    "The multinomial distribution describes the probability of observing counts among a number of categories, and thus multinomial naive Bayes is most appropriate for features that represent counts or count rates.\n",
    "\n",
    "The idea is precisely the same as before, except that instead of modeling the data distribution with the best-fit Gaussian, we model the data distribution with a best-fit multinomial distribution."
   ]
  },
  {
   "cell_type": "markdown",
   "metadata": {},
   "source": [
    "### Example: Classifying Text\n",
    "\n",
    "One place where multinomial naive Bayes is often used is in text classification, where the features are related to word counts or frequencies within the documents to be classified.\n",
    "We discussed the extraction of such features from text in [Feature Engineering](05.04-Feature-Engineering.ipynb); here we will use the sparse word count features from the 20 Newsgroups corpus to show how we might classify these short documents into categories.\n",
    "\n",
    "Let's download the data and take a look at the target names:"
   ]
  },
  {
   "cell_type": "code",
   "execution_count": 41,
   "metadata": {
    "pycharm": {
     "name": "#%%\n"
    }
   },
   "outputs": [
    {
     "name": "stderr",
     "output_type": "stream",
     "text": [
      "Downloading 20news dataset. This may take a few minutes.\n",
      "Downloading dataset from https://ndownloader.figshare.com/files/5975967 (14 MB)\n"
     ]
    },
    {
     "data": {
      "text/plain": [
       "['alt.atheism',\n",
       " 'comp.graphics',\n",
       " 'comp.os.ms-windows.misc',\n",
       " 'comp.sys.ibm.pc.hardware',\n",
       " 'comp.sys.mac.hardware',\n",
       " 'comp.windows.x',\n",
       " 'misc.forsale',\n",
       " 'rec.autos',\n",
       " 'rec.motorcycles',\n",
       " 'rec.sport.baseball',\n",
       " 'rec.sport.hockey',\n",
       " 'sci.crypt',\n",
       " 'sci.electronics',\n",
       " 'sci.med',\n",
       " 'sci.space',\n",
       " 'soc.religion.christian',\n",
       " 'talk.politics.guns',\n",
       " 'talk.politics.mideast',\n",
       " 'talk.politics.misc',\n",
       " 'talk.religion.misc']"
      ]
     },
     "execution_count": 41,
     "metadata": {},
     "output_type": "execute_result"
    }
   ],
   "source": [
    "from sklearn.datasets import fetch_20newsgroups\n",
    "\n",
    "data = fetch_20newsgroups()\n",
    "data.target_names"
   ]
  },
  {
   "cell_type": "markdown",
   "metadata": {},
   "source": [
    "For simplicity here, we will select just a few of these categories, and download the training and testing set:"
   ]
  },
  {
   "cell_type": "code",
   "execution_count": 42,
   "metadata": {
    "pycharm": {
     "name": "#%%\n"
    }
   },
   "outputs": [],
   "source": [
    "categories = ['talk.religion.misc', 'soc.religion.christian',\n",
    "             'sci.space', 'comp.graphics']\n",
    "train = fetch_20newsgroups(subset='train', categories=categories)\n",
    "test = fetch_20newsgroups(subset='test', categories=categories)"
   ]
  },
  {
   "cell_type": "markdown",
   "metadata": {},
   "source": [
    "Here is a representative entry from the data:"
   ]
  },
  {
   "cell_type": "code",
   "execution_count": 43,
   "metadata": {
    "pycharm": {
     "name": "#%%\n"
    }
   },
   "outputs": [
    {
     "name": "stdout",
     "output_type": "stream",
     "text": [
      "From: dmcgee@uluhe.soest.hawaii.edu (Don McGee)\n",
      "Subject: Federal Hearing\n",
      "Originator: dmcgee@uluhe\n",
      "Organization: School of Ocean and Earth Science and Technology\n",
      "Distribution: usa\n",
      "Lines: 10\n",
      "\n",
      "\n",
      "Fact or rumor....?  Madalyn Murray O'Hare an atheist who eliminated the\n",
      "use of the bible reading and prayer in public schools 15 years ago is now\n",
      "going to appear before the FCC with a petition to stop the reading of the\n",
      "Gospel on the airways of America.  And she is also campaigning to remove\n",
      "Christmas programs, songs, etc from the public schools.  If it is true\n",
      "then mail to Federal Communications Commission 1919 H Street Washington DC\n",
      "20054 expressing your opposition to her request.  Reference Petition number\n",
      "\n",
      "2493.\n",
      "\n"
     ]
    }
   ],
   "source": [
    "print(train.data[5])"
   ]
  },
  {
   "cell_type": "markdown",
   "metadata": {},
   "source": [
    "Show the distributions of lengths of the emails"
   ]
  },
  {
   "cell_type": "code",
   "execution_count": 44,
   "metadata": {
    "pycharm": {
     "name": "#%%\n"
    }
   },
   "outputs": [
    {
     "data": {
      "image/png": "[encoded data removed]",
      "text/plain": [
       "<Figure size 432x288 with 1 Axes>"
      ]
     },
     "metadata": {
      "needs_background": "light"
     },
     "output_type": "display_data"
    }
   ],
   "source": [
    "lens = [len(d) for d in train.data]\n",
    "\n",
    "def plot_loghist(x, bins):\n",
    "  hist, bins = np.histogram(x, bins=bins)\n",
    "  logbins = np.logspace(np.log10(bins[0]),np.log10(bins[-1]),len(bins))\n",
    "  plt.hist(x, bins=logbins)\n",
    "  plt.xscale('log')\n",
    "\n",
    "plot_loghist(lens, 10)\n"
   ]
  },
  {
   "cell_type": "markdown",
   "metadata": {},
   "source": [
    "In order to use this data for machine learning, we need to be able to convert the content of each string into a vector of numbers.\n",
    "For this we will use the TF-IDF vectorizer, and create a pipeline that attaches it to a multinomial naive Bayes classifier:"
   ]
  },
  {
   "cell_type": "code",
   "execution_count": 64,
   "metadata": {
    "pycharm": {
     "name": "#%%\n"
    }
   },
   "outputs": [],
   "source": [
    "from sklearn.feature_extraction.text import TfidfVectorizer\n",
    "from sklearn.naive_bayes import MultinomialNB\n",
    "from sklearn.pipeline import make_pipeline\n",
    "\n",
    "model = make_pipeline(TfidfVectorizer(), MultinomialNB())"
   ]
  },
  {
   "cell_type": "markdown",
   "metadata": {},
   "source": [
    "With this pipeline, we can apply the model to the training data, and predict labels for the test data:"
   ]
  },
  {
   "cell_type": "code",
   "execution_count": 46,
   "metadata": {
    "pycharm": {
     "name": "#%%\n"
    }
   },
   "outputs": [],
   "source": [
    "model.fit(train.data, train.target)\n",
    "labels = model.predict(test.data)"
   ]
  },
  {
   "cell_type": "markdown",
   "metadata": {},
   "source": [
    "Now that we have predicted the labels for the test data, we can evaluate them to learn about the performance of the estimator.\n",
    "For example, here is the confusion matrix between the true and predicted labels for the test data:"
   ]
  },
  {
   "cell_type": "code",
   "execution_count": 47,
   "metadata": {
    "pycharm": {
     "name": "#%%\n"
    }
   },
   "outputs": [
    {
     "data": {
      "image/png": "[encoded data removed]",
      "text/plain": [
       "<Figure size 1440x1008 with 1 Axes>"
      ]
     },
     "metadata": {
      "needs_background": "light"
     },
     "output_type": "display_data"
    }
   ],
   "source": [
    "from sklearn.metrics import confusion_matrix\n",
    "mat = confusion_matrix(test.target, labels)\n",
    "plt.figure(figsize=(20,14))\n",
    "sns.heatmap(mat.T, square=True, annot=True, fmt='d', cbar=False,\n",
    "            xticklabels=train.target_names, yticklabels=train.target_names)\n",
    "plt.xlabel('true label')\n",
    "plt.ylabel('predicted label');"
   ]
  },
  {
   "cell_type": "markdown",
   "metadata": {},
   "source": [
    "Evidently, even this very simple classifier can successfully separate space talk from computer talk, but it gets confused between talk about religion and talk about Christianity.\n",
    "This is perhaps an expected area of confusion!\n",
    "\n",
    "The very cool thing here is that we now have the tools to determine the category for *any* string, using the ``predict()`` method of this pipeline.\n",
    "Here's a quick utility function that will return the prediction for a single string:"
   ]
  },
  {
   "cell_type": "code",
   "execution_count": 48,
   "metadata": {
    "pycharm": {
     "name": "#%%\n"
    }
   },
   "outputs": [
    {
     "name": "stdout",
     "output_type": "stream",
     "text": [
      "              precision    recall  f1-score   support\n",
      "\n",
      "           0       0.97      0.88      0.92       389\n",
      "           1       0.92      0.92      0.92       394\n",
      "           2       0.62      0.98      0.76       398\n",
      "           3       1.00      0.19      0.32       251\n",
      "\n",
      "    accuracy                           0.80      1432\n",
      "   macro avg       0.88      0.75      0.73      1432\n",
      "weighted avg       0.86      0.80      0.77      1432\n",
      "\n"
     ]
    }
   ],
   "source": [
    "from sklearn.metrics import classification_report\n",
    "print(classification_report(test.target, labels))\n"
   ]
  },
  {
   "cell_type": "code",
   "execution_count": 49,
   "metadata": {
    "pycharm": {
     "name": "#%%\n"
    }
   },
   "outputs": [],
   "source": [
    "def predict_category(s, train=train, model=model):\n",
    "    pred = model.predict([s])\n",
    "    return train.target_names[pred[0]]"
   ]
  },
  {
   "cell_type": "markdown",
   "metadata": {},
   "source": [
    "Let's try it out:"
   ]
  },
  {
   "cell_type": "code",
   "execution_count": 50,
   "metadata": {
    "pycharm": {
     "name": "#%%\n"
    }
   },
   "outputs": [
    {
     "data": {
      "text/plain": [
       "'sci.space'"
      ]
     },
     "execution_count": 50,
     "metadata": {},
     "output_type": "execute_result"
    }
   ],
   "source": [
    "predict_category('sending a payload to the ISS')"
   ]
  },
  {
   "cell_type": "code",
   "execution_count": 51,
   "metadata": {
    "pycharm": {
     "name": "#%%\n"
    }
   },
   "outputs": [
    {
     "data": {
      "text/plain": [
       "'comp.graphics'"
      ]
     },
     "execution_count": 51,
     "metadata": {},
     "output_type": "execute_result"
    }
   ],
   "source": [
    "predict_category('sending bytes to the network')"
   ]
  },
  {
   "cell_type": "code",
   "execution_count": 52,
   "metadata": {
    "pycharm": {
     "name": "#%%\n"
    }
   },
   "outputs": [
    {
     "data": {
      "text/plain": [
       "'sci.space'"
      ]
     },
     "execution_count": 52,
     "metadata": {},
     "output_type": "execute_result"
    }
   ],
   "source": [
    "predict_category('sending chocolate')"
   ]
  },
  {
   "cell_type": "code",
   "execution_count": 53,
   "metadata": {
    "pycharm": {
     "name": "#%%\n"
    }
   },
   "outputs": [
    {
     "data": {
      "text/plain": [
       "'soc.religion.christian'"
      ]
     },
     "execution_count": 53,
     "metadata": {},
     "output_type": "execute_result"
    }
   ],
   "source": [
    "predict_category('discussing islam vs atheism')"
   ]
  },
  {
   "cell_type": "code",
   "execution_count": 54,
   "metadata": {
    "pycharm": {
     "name": "#%%\n"
    }
   },
   "outputs": [
    {
     "data": {
      "text/plain": [
       "'comp.graphics'"
      ]
     },
     "execution_count": 54,
     "metadata": {},
     "output_type": "execute_result"
    }
   ],
   "source": [
    "predict_category('determining the screen resolution')"
   ]
  },
  {
   "cell_type": "markdown",
   "metadata": {},
   "source": [
    "Remember that this is nothing more sophisticated than a simple probability model for the (weighted) frequency of each word in the string; nevertheless, the result is striking.\n",
    "Even a very naive algorithm, when used carefully and trained on a large set of high-dimensional data, can be surprisingly effective."
   ]
  },
  {
   "cell_type": "markdown",
   "metadata": {},
   "source": [
    "## When to Use Naive Bayes\n",
    "\n",
    "Because naive Bayesian classifiers make such stringent assumptions about data, they will generally not perform as well as a more complicated model.\n",
    "That said, they have several advantages:\n",
    "\n",
    "- They are extremely fast for both training and prediction\n",
    "- They provide straightforward probabilistic prediction\n",
    "- They are often very easily interpretable\n",
    "- They have very few (if any) tunable parameters\n",
    "\n",
    "These advantages mean a naive Bayesian classifier is often a good choice as an initial baseline classification.\n",
    "If it performs suitably, then congratulations: you have a very fast, very interpretable classifier for your problem.\n",
    "If it does not perform well, then you can begin exploring more sophisticated models, with some baseline knowledge of how well they should perform.\n",
    "\n",
    "Naive Bayes classifiers tend to perform especially well in one of the following situations:\n",
    "\n",
    "- When the naive assumptions actually match the data (very rare in practice)\n",
    "- For very well-separated categories, when model complexity is less important\n",
    "- For very high-dimensional data, when model complexity is less important\n",
    "\n",
    "The last two points seem distinct, but they actually are related: as the dimension of a dataset grows, it is much less likely for any two points to be found close together (after all, they must be close in *every single dimension* to be close overall).\n",
    "This means that clusters in high dimensions tend to be more separated, on average, than clusters in low dimensions, assuming the new dimensions actually add information.\n",
    "For this reason, simplistic classifiers like naive Bayes tend to work as well or better than more complicated classifiers as the dimensionality grows: once you have enough data, even a simple model can be very powerful.\n",
    "\n",
    "\n"
   ]
  },
  {
   "cell_type": "code",
   "execution_count": null,
   "metadata": {},
   "outputs": [],
   "source": []
  }
 ],
 "metadata": {
  "kernelspec": {
   "display_name": "Python 3",
   "language": "python",
   "name": "python3"
  },
  "language_info": {
   "codemirror_mode": {
    "name": "ipython",
    "version": 3
   },
   "file_extension": ".py",
   "mimetype": "text/x-python",
   "name": "python",
   "nbconvert_exporter": "python",
   "pygments_lexer": "ipython3",
   "version": "3.7.4"
  }
 },
 "nbformat": 4,
 "nbformat_minor": 2
}
